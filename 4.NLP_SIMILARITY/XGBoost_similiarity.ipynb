{
 "cells": [
  {
   "cell_type": "code",
   "execution_count": 22,
   "metadata": {
    "collapsed": true
   },
   "outputs": [],
   "source": [
    "import os.path\n",
    "\n",
    "import numpy as np\n",
    "import pandas as pd"
   ]
  },
  {
   "cell_type": "code",
   "execution_count": 23,
   "outputs": [],
   "source": [
    "DATA_IN_PATH = './preprocessed_data/'"
   ],
   "metadata": {
    "collapsed": false
   }
  },
  {
   "cell_type": "code",
   "execution_count": 24,
   "outputs": [],
   "source": [
    "TRAIN_Q1_DATA_FILE = 'q1_train.npy'\n",
    "TRAIN_Q2_DATA_FILE = 'q2_train.npy'\n",
    "TRAIN_LABEL_DATA_FILE = 'label_train.npy'"
   ],
   "metadata": {
    "collapsed": false
   }
  },
  {
   "cell_type": "code",
   "execution_count": 25,
   "outputs": [],
   "source": [
    "train_q1_data = np.load(open(DATA_IN_PATH + TRAIN_Q1_DATA_FILE, 'rb'))\n",
    "train_q2_data = np.load(open(DATA_IN_PATH + TRAIN_Q2_DATA_FILE, 'rb'))\n",
    "train_labels = np.load(open(DATA_IN_PATH + TRAIN_LABEL_DATA_FILE, 'rb'))"
   ],
   "metadata": {
    "collapsed": false
   }
  },
  {
   "cell_type": "code",
   "execution_count": 26,
   "outputs": [],
   "source": [
    "train_input = np.stack((train_q1_data, train_q2_data), axis=1)"
   ],
   "metadata": {
    "collapsed": false
   }
  },
  {
   "cell_type": "code",
   "execution_count": 27,
   "outputs": [
    {
     "name": "stdout",
     "output_type": "stream",
     "text": [
      "(298526, 2, 31)\n"
     ]
    }
   ],
   "source": [
    "print(train_input.shape)"
   ],
   "metadata": {
    "collapsed": false
   }
  },
  {
   "cell_type": "markdown",
   "source": [
    "# Split train & validation data set"
   ],
   "metadata": {
    "collapsed": false
   }
  },
  {
   "cell_type": "code",
   "execution_count": 28,
   "outputs": [],
   "source": [
    "from sklearn.model_selection import train_test_split"
   ],
   "metadata": {
    "collapsed": false
   }
  },
  {
   "cell_type": "code",
   "execution_count": 29,
   "outputs": [],
   "source": [
    "train_input, eval_input, train_label, eval_label = train_test_split(train_input, train_labels, test_size=0.2, random_state=4242)"
   ],
   "metadata": {
    "collapsed": false
   }
  },
  {
   "cell_type": "code",
   "execution_count": 30,
   "outputs": [],
   "source": [
    "import xgboost as xgb"
   ],
   "metadata": {
    "collapsed": false
   }
  },
  {
   "cell_type": "code",
   "execution_count": 31,
   "outputs": [],
   "source": [
    "train_data = xgb.DMatrix(train_input.sum(axis=1), label=train_label)\n",
    "eval_data = xgb.DMatrix(eval_input.sum(axis=1), label=eval_label)\n",
    "\n",
    "data_list = [(train_data, 'train'), (eval_data, 'valid')]"
   ],
   "metadata": {
    "collapsed": false
   }
  },
  {
   "cell_type": "code",
   "execution_count": 32,
   "outputs": [],
   "source": [
    "params = {}"
   ],
   "metadata": {
    "collapsed": false
   }
  },
  {
   "cell_type": "code",
   "execution_count": 33,
   "outputs": [],
   "source": [
    "params['objective'] = 'binary:logistic'\n",
    "params['eval_metric'] = 'rmse'"
   ],
   "metadata": {
    "collapsed": false
   }
  },
  {
   "cell_type": "code",
   "execution_count": 34,
   "outputs": [
    {
     "name": "stdout",
     "output_type": "stream",
     "text": [
      "[0]\ttrain-rmse:0.48396\tvalid-rmse:0.48468\n",
      "[1]\ttrain-rmse:0.47388\tvalid-rmse:0.47504\n",
      "[2]\ttrain-rmse:0.46729\tvalid-rmse:0.46870\n",
      "[3]\ttrain-rmse:0.46257\tvalid-rmse:0.46440\n",
      "[4]\ttrain-rmse:0.45909\tvalid-rmse:0.46118\n",
      "[5]\ttrain-rmse:0.45610\tvalid-rmse:0.45835\n",
      "[6]\ttrain-rmse:0.45430\tvalid-rmse:0.45678\n",
      "[7]\ttrain-rmse:0.45252\tvalid-rmse:0.45520\n",
      "[8]\ttrain-rmse:0.45025\tvalid-rmse:0.45312\n",
      "[9]\ttrain-rmse:0.44930\tvalid-rmse:0.45234\n",
      "[10]\ttrain-rmse:0.44850\tvalid-rmse:0.45177\n",
      "[11]\ttrain-rmse:0.44674\tvalid-rmse:0.45024\n",
      "[12]\ttrain-rmse:0.44581\tvalid-rmse:0.44951\n",
      "[13]\ttrain-rmse:0.44470\tvalid-rmse:0.44866\n",
      "[14]\ttrain-rmse:0.44428\tvalid-rmse:0.44842\n",
      "[15]\ttrain-rmse:0.44363\tvalid-rmse:0.44793\n",
      "[16]\ttrain-rmse:0.44271\tvalid-rmse:0.44709\n",
      "[17]\ttrain-rmse:0.44240\tvalid-rmse:0.44691\n",
      "[18]\ttrain-rmse:0.44200\tvalid-rmse:0.44664\n",
      "[19]\ttrain-rmse:0.44176\tvalid-rmse:0.44651\n",
      "[20]\ttrain-rmse:0.44116\tvalid-rmse:0.44611\n",
      "[21]\ttrain-rmse:0.43980\tvalid-rmse:0.44491\n",
      "[22]\ttrain-rmse:0.43902\tvalid-rmse:0.44426\n",
      "[23]\ttrain-rmse:0.43852\tvalid-rmse:0.44392\n",
      "[24]\ttrain-rmse:0.43779\tvalid-rmse:0.44341\n",
      "[25]\ttrain-rmse:0.43752\tvalid-rmse:0.44322\n",
      "[26]\ttrain-rmse:0.43727\tvalid-rmse:0.44305\n",
      "[27]\ttrain-rmse:0.43712\tvalid-rmse:0.44299\n",
      "[28]\ttrain-rmse:0.43620\tvalid-rmse:0.44225\n",
      "[29]\ttrain-rmse:0.43554\tvalid-rmse:0.44187\n",
      "[30]\ttrain-rmse:0.43541\tvalid-rmse:0.44186\n",
      "[31]\ttrain-rmse:0.43518\tvalid-rmse:0.44171\n",
      "[32]\ttrain-rmse:0.43484\tvalid-rmse:0.44143\n",
      "[33]\ttrain-rmse:0.43442\tvalid-rmse:0.44122\n",
      "[34]\ttrain-rmse:0.43381\tvalid-rmse:0.44083\n",
      "[35]\ttrain-rmse:0.43360\tvalid-rmse:0.44074\n",
      "[36]\ttrain-rmse:0.43329\tvalid-rmse:0.44058\n",
      "[37]\ttrain-rmse:0.43229\tvalid-rmse:0.43980\n",
      "[38]\ttrain-rmse:0.43155\tvalid-rmse:0.43924\n",
      "[39]\ttrain-rmse:0.43136\tvalid-rmse:0.43917\n",
      "[40]\ttrain-rmse:0.43089\tvalid-rmse:0.43892\n",
      "[41]\ttrain-rmse:0.43075\tvalid-rmse:0.43888\n",
      "[42]\ttrain-rmse:0.43064\tvalid-rmse:0.43884\n",
      "[43]\ttrain-rmse:0.43053\tvalid-rmse:0.43881\n",
      "[44]\ttrain-rmse:0.43043\tvalid-rmse:0.43878\n",
      "[45]\ttrain-rmse:0.43000\tvalid-rmse:0.43855\n",
      "[46]\ttrain-rmse:0.42956\tvalid-rmse:0.43819\n",
      "[47]\ttrain-rmse:0.42914\tvalid-rmse:0.43793\n",
      "[48]\ttrain-rmse:0.42866\tvalid-rmse:0.43773\n",
      "[49]\ttrain-rmse:0.42818\tvalid-rmse:0.43743\n",
      "[50]\ttrain-rmse:0.42786\tvalid-rmse:0.43721\n",
      "[51]\ttrain-rmse:0.42751\tvalid-rmse:0.43704\n",
      "[52]\ttrain-rmse:0.42703\tvalid-rmse:0.43673\n",
      "[53]\ttrain-rmse:0.42668\tvalid-rmse:0.43659\n",
      "[54]\ttrain-rmse:0.42626\tvalid-rmse:0.43647\n",
      "[55]\ttrain-rmse:0.42591\tvalid-rmse:0.43629\n",
      "[56]\ttrain-rmse:0.42576\tvalid-rmse:0.43624\n",
      "[57]\ttrain-rmse:0.42542\tvalid-rmse:0.43615\n",
      "[58]\ttrain-rmse:0.42525\tvalid-rmse:0.43610\n",
      "[59]\ttrain-rmse:0.42498\tvalid-rmse:0.43590\n",
      "[60]\ttrain-rmse:0.42457\tvalid-rmse:0.43570\n",
      "[61]\ttrain-rmse:0.42442\tvalid-rmse:0.43568\n",
      "[62]\ttrain-rmse:0.42393\tvalid-rmse:0.43544\n",
      "[63]\ttrain-rmse:0.42354\tvalid-rmse:0.43531\n",
      "[64]\ttrain-rmse:0.42341\tvalid-rmse:0.43527\n",
      "[65]\ttrain-rmse:0.42328\tvalid-rmse:0.43525\n",
      "[66]\ttrain-rmse:0.42316\tvalid-rmse:0.43522\n",
      "[67]\ttrain-rmse:0.42301\tvalid-rmse:0.43514\n",
      "[68]\ttrain-rmse:0.42285\tvalid-rmse:0.43511\n",
      "[69]\ttrain-rmse:0.42275\tvalid-rmse:0.43511\n",
      "[70]\ttrain-rmse:0.42246\tvalid-rmse:0.43505\n",
      "[71]\ttrain-rmse:0.42214\tvalid-rmse:0.43492\n",
      "[72]\ttrain-rmse:0.42176\tvalid-rmse:0.43469\n",
      "[73]\ttrain-rmse:0.42146\tvalid-rmse:0.43460\n",
      "[74]\ttrain-rmse:0.42139\tvalid-rmse:0.43459\n",
      "[75]\ttrain-rmse:0.42125\tvalid-rmse:0.43458\n",
      "[76]\ttrain-rmse:0.42099\tvalid-rmse:0.43444\n",
      "[77]\ttrain-rmse:0.42065\tvalid-rmse:0.43429\n",
      "[78]\ttrain-rmse:0.42033\tvalid-rmse:0.43419\n",
      "[79]\ttrain-rmse:0.42004\tvalid-rmse:0.43410\n",
      "[80]\ttrain-rmse:0.41972\tvalid-rmse:0.43398\n",
      "[81]\ttrain-rmse:0.41949\tvalid-rmse:0.43387\n",
      "[82]\ttrain-rmse:0.41937\tvalid-rmse:0.43387\n",
      "[83]\ttrain-rmse:0.41898\tvalid-rmse:0.43375\n",
      "[84]\ttrain-rmse:0.41876\tvalid-rmse:0.43372\n",
      "[85]\ttrain-rmse:0.41863\tvalid-rmse:0.43364\n",
      "[86]\ttrain-rmse:0.41848\tvalid-rmse:0.43365\n",
      "[87]\ttrain-rmse:0.41834\tvalid-rmse:0.43360\n",
      "[88]\ttrain-rmse:0.41807\tvalid-rmse:0.43345\n",
      "[89]\ttrain-rmse:0.41788\tvalid-rmse:0.43338\n",
      "[90]\ttrain-rmse:0.41780\tvalid-rmse:0.43337\n",
      "[91]\ttrain-rmse:0.41749\tvalid-rmse:0.43324\n",
      "[92]\ttrain-rmse:0.41740\tvalid-rmse:0.43322\n",
      "[93]\ttrain-rmse:0.41702\tvalid-rmse:0.43308\n",
      "[94]\ttrain-rmse:0.41693\tvalid-rmse:0.43306\n",
      "[95]\ttrain-rmse:0.41662\tvalid-rmse:0.43297\n",
      "[96]\ttrain-rmse:0.41630\tvalid-rmse:0.43285\n",
      "[97]\ttrain-rmse:0.41608\tvalid-rmse:0.43278\n",
      "[98]\ttrain-rmse:0.41587\tvalid-rmse:0.43273\n",
      "[99]\ttrain-rmse:0.41576\tvalid-rmse:0.43271\n",
      "[100]\ttrain-rmse:0.41556\tvalid-rmse:0.43268\n",
      "[101]\ttrain-rmse:0.41549\tvalid-rmse:0.43266\n",
      "[102]\ttrain-rmse:0.41533\tvalid-rmse:0.43261\n",
      "[103]\ttrain-rmse:0.41515\tvalid-rmse:0.43250\n",
      "[104]\ttrain-rmse:0.41510\tvalid-rmse:0.43249\n",
      "[105]\ttrain-rmse:0.41497\tvalid-rmse:0.43246\n",
      "[106]\ttrain-rmse:0.41470\tvalid-rmse:0.43241\n",
      "[107]\ttrain-rmse:0.41446\tvalid-rmse:0.43238\n",
      "[108]\ttrain-rmse:0.41417\tvalid-rmse:0.43231\n",
      "[109]\ttrain-rmse:0.41388\tvalid-rmse:0.43227\n",
      "[110]\ttrain-rmse:0.41367\tvalid-rmse:0.43219\n",
      "[111]\ttrain-rmse:0.41348\tvalid-rmse:0.43214\n",
      "[112]\ttrain-rmse:0.41315\tvalid-rmse:0.43207\n",
      "[113]\ttrain-rmse:0.41292\tvalid-rmse:0.43196\n",
      "[114]\ttrain-rmse:0.41266\tvalid-rmse:0.43187\n",
      "[115]\ttrain-rmse:0.41242\tvalid-rmse:0.43176\n",
      "[116]\ttrain-rmse:0.41212\tvalid-rmse:0.43161\n",
      "[117]\ttrain-rmse:0.41190\tvalid-rmse:0.43156\n",
      "[118]\ttrain-rmse:0.41159\tvalid-rmse:0.43142\n",
      "[119]\ttrain-rmse:0.41140\tvalid-rmse:0.43135\n",
      "[120]\ttrain-rmse:0.41124\tvalid-rmse:0.43133\n",
      "[121]\ttrain-rmse:0.41104\tvalid-rmse:0.43131\n",
      "[122]\ttrain-rmse:0.41081\tvalid-rmse:0.43125\n",
      "[123]\ttrain-rmse:0.41064\tvalid-rmse:0.43119\n",
      "[124]\ttrain-rmse:0.41040\tvalid-rmse:0.43118\n",
      "[125]\ttrain-rmse:0.41033\tvalid-rmse:0.43117\n",
      "[126]\ttrain-rmse:0.41026\tvalid-rmse:0.43114\n",
      "[127]\ttrain-rmse:0.41010\tvalid-rmse:0.43113\n",
      "[128]\ttrain-rmse:0.40991\tvalid-rmse:0.43108\n",
      "[129]\ttrain-rmse:0.40974\tvalid-rmse:0.43101\n",
      "[130]\ttrain-rmse:0.40944\tvalid-rmse:0.43087\n",
      "[131]\ttrain-rmse:0.40936\tvalid-rmse:0.43086\n",
      "[132]\ttrain-rmse:0.40913\tvalid-rmse:0.43084\n",
      "[133]\ttrain-rmse:0.40901\tvalid-rmse:0.43084\n",
      "[134]\ttrain-rmse:0.40890\tvalid-rmse:0.43082\n",
      "[135]\ttrain-rmse:0.40867\tvalid-rmse:0.43080\n",
      "[136]\ttrain-rmse:0.40859\tvalid-rmse:0.43078\n",
      "[137]\ttrain-rmse:0.40853\tvalid-rmse:0.43075\n",
      "[138]\ttrain-rmse:0.40843\tvalid-rmse:0.43075\n",
      "[139]\ttrain-rmse:0.40833\tvalid-rmse:0.43072\n",
      "[140]\ttrain-rmse:0.40798\tvalid-rmse:0.43052\n",
      "[141]\ttrain-rmse:0.40765\tvalid-rmse:0.43032\n",
      "[142]\ttrain-rmse:0.40736\tvalid-rmse:0.43020\n",
      "[143]\ttrain-rmse:0.40723\tvalid-rmse:0.43020\n",
      "[144]\ttrain-rmse:0.40716\tvalid-rmse:0.43020\n",
      "[145]\ttrain-rmse:0.40710\tvalid-rmse:0.43019\n",
      "[146]\ttrain-rmse:0.40696\tvalid-rmse:0.43016\n",
      "[147]\ttrain-rmse:0.40685\tvalid-rmse:0.43015\n",
      "[148]\ttrain-rmse:0.40659\tvalid-rmse:0.43013\n",
      "[149]\ttrain-rmse:0.40629\tvalid-rmse:0.42997\n",
      "[150]\ttrain-rmse:0.40599\tvalid-rmse:0.42989\n",
      "[151]\ttrain-rmse:0.40594\tvalid-rmse:0.42989\n",
      "[152]\ttrain-rmse:0.40568\tvalid-rmse:0.42980\n",
      "[153]\ttrain-rmse:0.40544\tvalid-rmse:0.42969\n",
      "[154]\ttrain-rmse:0.40524\tvalid-rmse:0.42967\n",
      "[155]\ttrain-rmse:0.40497\tvalid-rmse:0.42958\n",
      "[156]\ttrain-rmse:0.40467\tvalid-rmse:0.42957\n",
      "[157]\ttrain-rmse:0.40444\tvalid-rmse:0.42952\n",
      "[158]\ttrain-rmse:0.40430\tvalid-rmse:0.42952\n",
      "[159]\ttrain-rmse:0.40412\tvalid-rmse:0.42951\n",
      "[160]\ttrain-rmse:0.40404\tvalid-rmse:0.42950\n",
      "[161]\ttrain-rmse:0.40401\tvalid-rmse:0.42950\n",
      "[162]\ttrain-rmse:0.40388\tvalid-rmse:0.42949\n",
      "[163]\ttrain-rmse:0.40381\tvalid-rmse:0.42950\n",
      "[164]\ttrain-rmse:0.40355\tvalid-rmse:0.42934\n",
      "[165]\ttrain-rmse:0.40337\tvalid-rmse:0.42935\n",
      "[166]\ttrain-rmse:0.40308\tvalid-rmse:0.42930\n",
      "[167]\ttrain-rmse:0.40280\tvalid-rmse:0.42918\n",
      "[168]\ttrain-rmse:0.40254\tvalid-rmse:0.42914\n",
      "[169]\ttrain-rmse:0.40229\tvalid-rmse:0.42908\n",
      "[170]\ttrain-rmse:0.40203\tvalid-rmse:0.42903\n",
      "[171]\ttrain-rmse:0.40188\tvalid-rmse:0.42898\n",
      "[172]\ttrain-rmse:0.40175\tvalid-rmse:0.42895\n",
      "[173]\ttrain-rmse:0.40161\tvalid-rmse:0.42893\n",
      "[174]\ttrain-rmse:0.40152\tvalid-rmse:0.42894\n",
      "[175]\ttrain-rmse:0.40148\tvalid-rmse:0.42893\n",
      "[176]\ttrain-rmse:0.40141\tvalid-rmse:0.42896\n",
      "[177]\ttrain-rmse:0.40131\tvalid-rmse:0.42892\n",
      "[178]\ttrain-rmse:0.40117\tvalid-rmse:0.42892\n",
      "[179]\ttrain-rmse:0.40092\tvalid-rmse:0.42886\n",
      "[180]\ttrain-rmse:0.40071\tvalid-rmse:0.42881\n",
      "[181]\ttrain-rmse:0.40047\tvalid-rmse:0.42879\n",
      "[182]\ttrain-rmse:0.40025\tvalid-rmse:0.42874\n",
      "[183]\ttrain-rmse:0.40001\tvalid-rmse:0.42871\n",
      "[184]\ttrain-rmse:0.39980\tvalid-rmse:0.42862\n",
      "[185]\ttrain-rmse:0.39958\tvalid-rmse:0.42858\n",
      "[186]\ttrain-rmse:0.39935\tvalid-rmse:0.42848\n",
      "[187]\ttrain-rmse:0.39912\tvalid-rmse:0.42846\n",
      "[188]\ttrain-rmse:0.39892\tvalid-rmse:0.42842\n",
      "[189]\ttrain-rmse:0.39875\tvalid-rmse:0.42833\n",
      "[190]\ttrain-rmse:0.39847\tvalid-rmse:0.42826\n",
      "[191]\ttrain-rmse:0.39838\tvalid-rmse:0.42828\n",
      "[192]\ttrain-rmse:0.39822\tvalid-rmse:0.42827\n",
      "[193]\ttrain-rmse:0.39807\tvalid-rmse:0.42826\n",
      "[194]\ttrain-rmse:0.39787\tvalid-rmse:0.42817\n",
      "[195]\ttrain-rmse:0.39777\tvalid-rmse:0.42817\n",
      "[196]\ttrain-rmse:0.39755\tvalid-rmse:0.42812\n",
      "[197]\ttrain-rmse:0.39735\tvalid-rmse:0.42809\n",
      "[198]\ttrain-rmse:0.39713\tvalid-rmse:0.42806\n",
      "[199]\ttrain-rmse:0.39700\tvalid-rmse:0.42802\n",
      "[200]\ttrain-rmse:0.39686\tvalid-rmse:0.42800\n",
      "[201]\ttrain-rmse:0.39667\tvalid-rmse:0.42796\n",
      "[202]\ttrain-rmse:0.39647\tvalid-rmse:0.42795\n",
      "[203]\ttrain-rmse:0.39629\tvalid-rmse:0.42793\n",
      "[204]\ttrain-rmse:0.39609\tvalid-rmse:0.42791\n",
      "[205]\ttrain-rmse:0.39596\tvalid-rmse:0.42791\n",
      "[206]\ttrain-rmse:0.39574\tvalid-rmse:0.42787\n",
      "[207]\ttrain-rmse:0.39560\tvalid-rmse:0.42785\n",
      "[208]\ttrain-rmse:0.39556\tvalid-rmse:0.42783\n",
      "[209]\ttrain-rmse:0.39546\tvalid-rmse:0.42782\n",
      "[210]\ttrain-rmse:0.39529\tvalid-rmse:0.42777\n",
      "[211]\ttrain-rmse:0.39506\tvalid-rmse:0.42773\n",
      "[212]\ttrain-rmse:0.39496\tvalid-rmse:0.42771\n",
      "[213]\ttrain-rmse:0.39473\tvalid-rmse:0.42763\n",
      "[214]\ttrain-rmse:0.39464\tvalid-rmse:0.42764\n",
      "[215]\ttrain-rmse:0.39459\tvalid-rmse:0.42762\n",
      "[216]\ttrain-rmse:0.39433\tvalid-rmse:0.42755\n",
      "[217]\ttrain-rmse:0.39422\tvalid-rmse:0.42751\n",
      "[218]\ttrain-rmse:0.39405\tvalid-rmse:0.42749\n",
      "[219]\ttrain-rmse:0.39385\tvalid-rmse:0.42745\n",
      "[220]\ttrain-rmse:0.39378\tvalid-rmse:0.42745\n",
      "[221]\ttrain-rmse:0.39357\tvalid-rmse:0.42739\n",
      "[222]\ttrain-rmse:0.39338\tvalid-rmse:0.42739\n",
      "[223]\ttrain-rmse:0.39320\tvalid-rmse:0.42741\n",
      "[224]\ttrain-rmse:0.39306\tvalid-rmse:0.42737\n",
      "[225]\ttrain-rmse:0.39300\tvalid-rmse:0.42737\n",
      "[226]\ttrain-rmse:0.39281\tvalid-rmse:0.42737\n",
      "[227]\ttrain-rmse:0.39257\tvalid-rmse:0.42728\n",
      "[228]\ttrain-rmse:0.39234\tvalid-rmse:0.42721\n",
      "[229]\ttrain-rmse:0.39220\tvalid-rmse:0.42717\n",
      "[230]\ttrain-rmse:0.39203\tvalid-rmse:0.42714\n",
      "[231]\ttrain-rmse:0.39195\tvalid-rmse:0.42712\n",
      "[232]\ttrain-rmse:0.39180\tvalid-rmse:0.42712\n",
      "[233]\ttrain-rmse:0.39162\tvalid-rmse:0.42707\n",
      "[234]\ttrain-rmse:0.39148\tvalid-rmse:0.42706\n",
      "[235]\ttrain-rmse:0.39139\tvalid-rmse:0.42704\n",
      "[236]\ttrain-rmse:0.39128\tvalid-rmse:0.42702\n",
      "[237]\ttrain-rmse:0.39117\tvalid-rmse:0.42702\n",
      "[238]\ttrain-rmse:0.39109\tvalid-rmse:0.42700\n",
      "[239]\ttrain-rmse:0.39103\tvalid-rmse:0.42698\n",
      "[240]\ttrain-rmse:0.39092\tvalid-rmse:0.42696\n",
      "[241]\ttrain-rmse:0.39071\tvalid-rmse:0.42692\n",
      "[242]\ttrain-rmse:0.39051\tvalid-rmse:0.42687\n",
      "[243]\ttrain-rmse:0.39038\tvalid-rmse:0.42685\n",
      "[244]\ttrain-rmse:0.39018\tvalid-rmse:0.42682\n",
      "[245]\ttrain-rmse:0.39001\tvalid-rmse:0.42680\n",
      "[246]\ttrain-rmse:0.38993\tvalid-rmse:0.42680\n",
      "[247]\ttrain-rmse:0.38977\tvalid-rmse:0.42679\n",
      "[248]\ttrain-rmse:0.38958\tvalid-rmse:0.42673\n",
      "[249]\ttrain-rmse:0.38954\tvalid-rmse:0.42671\n",
      "[250]\ttrain-rmse:0.38941\tvalid-rmse:0.42673\n",
      "[251]\ttrain-rmse:0.38933\tvalid-rmse:0.42673\n",
      "[252]\ttrain-rmse:0.38918\tvalid-rmse:0.42670\n",
      "[253]\ttrain-rmse:0.38914\tvalid-rmse:0.42668\n",
      "[254]\ttrain-rmse:0.38894\tvalid-rmse:0.42665\n",
      "[255]\ttrain-rmse:0.38867\tvalid-rmse:0.42657\n",
      "[256]\ttrain-rmse:0.38842\tvalid-rmse:0.42655\n",
      "[257]\ttrain-rmse:0.38823\tvalid-rmse:0.42650\n",
      "[258]\ttrain-rmse:0.38801\tvalid-rmse:0.42647\n",
      "[259]\ttrain-rmse:0.38785\tvalid-rmse:0.42647\n",
      "[260]\ttrain-rmse:0.38763\tvalid-rmse:0.42642\n",
      "[261]\ttrain-rmse:0.38745\tvalid-rmse:0.42637\n",
      "[262]\ttrain-rmse:0.38724\tvalid-rmse:0.42634\n",
      "[263]\ttrain-rmse:0.38706\tvalid-rmse:0.42627\n",
      "[264]\ttrain-rmse:0.38688\tvalid-rmse:0.42620\n",
      "[265]\ttrain-rmse:0.38665\tvalid-rmse:0.42613\n",
      "[266]\ttrain-rmse:0.38661\tvalid-rmse:0.42614\n",
      "[267]\ttrain-rmse:0.38637\tvalid-rmse:0.42612\n",
      "[268]\ttrain-rmse:0.38628\tvalid-rmse:0.42610\n",
      "[269]\ttrain-rmse:0.38621\tvalid-rmse:0.42608\n",
      "[270]\ttrain-rmse:0.38616\tvalid-rmse:0.42608\n",
      "[271]\ttrain-rmse:0.38612\tvalid-rmse:0.42605\n",
      "[272]\ttrain-rmse:0.38594\tvalid-rmse:0.42604\n",
      "[273]\ttrain-rmse:0.38575\tvalid-rmse:0.42603\n",
      "[274]\ttrain-rmse:0.38558\tvalid-rmse:0.42605\n",
      "[275]\ttrain-rmse:0.38543\tvalid-rmse:0.42604\n",
      "[276]\ttrain-rmse:0.38523\tvalid-rmse:0.42601\n",
      "[277]\ttrain-rmse:0.38513\tvalid-rmse:0.42604\n",
      "[278]\ttrain-rmse:0.38501\tvalid-rmse:0.42603\n",
      "[279]\ttrain-rmse:0.38481\tvalid-rmse:0.42599\n",
      "[280]\ttrain-rmse:0.38463\tvalid-rmse:0.42596\n",
      "[281]\ttrain-rmse:0.38454\tvalid-rmse:0.42591\n",
      "[282]\ttrain-rmse:0.38437\tvalid-rmse:0.42589\n",
      "[283]\ttrain-rmse:0.38425\tvalid-rmse:0.42588\n",
      "[284]\ttrain-rmse:0.38406\tvalid-rmse:0.42589\n",
      "[285]\ttrain-rmse:0.38388\tvalid-rmse:0.42588\n",
      "[286]\ttrain-rmse:0.38371\tvalid-rmse:0.42589\n",
      "[287]\ttrain-rmse:0.38349\tvalid-rmse:0.42583\n",
      "[288]\ttrain-rmse:0.38337\tvalid-rmse:0.42585\n",
      "[289]\ttrain-rmse:0.38322\tvalid-rmse:0.42581\n",
      "[290]\ttrain-rmse:0.38318\tvalid-rmse:0.42580\n",
      "[291]\ttrain-rmse:0.38294\tvalid-rmse:0.42574\n",
      "[292]\ttrain-rmse:0.38274\tvalid-rmse:0.42574\n",
      "[293]\ttrain-rmse:0.38257\tvalid-rmse:0.42573\n",
      "[294]\ttrain-rmse:0.38246\tvalid-rmse:0.42573\n",
      "[295]\ttrain-rmse:0.38231\tvalid-rmse:0.42568\n",
      "[296]\ttrain-rmse:0.38214\tvalid-rmse:0.42566\n",
      "[297]\ttrain-rmse:0.38194\tvalid-rmse:0.42562\n",
      "[298]\ttrain-rmse:0.38180\tvalid-rmse:0.42561\n",
      "[299]\ttrain-rmse:0.38165\tvalid-rmse:0.42557\n",
      "[300]\ttrain-rmse:0.38150\tvalid-rmse:0.42553\n",
      "[301]\ttrain-rmse:0.38134\tvalid-rmse:0.42554\n",
      "[302]\ttrain-rmse:0.38123\tvalid-rmse:0.42551\n",
      "[303]\ttrain-rmse:0.38111\tvalid-rmse:0.42548\n",
      "[304]\ttrain-rmse:0.38096\tvalid-rmse:0.42546\n",
      "[305]\ttrain-rmse:0.38077\tvalid-rmse:0.42542\n",
      "[306]\ttrain-rmse:0.38064\tvalid-rmse:0.42540\n",
      "[307]\ttrain-rmse:0.38048\tvalid-rmse:0.42539\n",
      "[308]\ttrain-rmse:0.38036\tvalid-rmse:0.42539\n",
      "[309]\ttrain-rmse:0.38018\tvalid-rmse:0.42532\n",
      "[310]\ttrain-rmse:0.38005\tvalid-rmse:0.42527\n",
      "[311]\ttrain-rmse:0.37987\tvalid-rmse:0.42525\n",
      "[312]\ttrain-rmse:0.37971\tvalid-rmse:0.42525\n",
      "[313]\ttrain-rmse:0.37959\tvalid-rmse:0.42523\n",
      "[314]\ttrain-rmse:0.37957\tvalid-rmse:0.42522\n",
      "[315]\ttrain-rmse:0.37952\tvalid-rmse:0.42521\n",
      "[316]\ttrain-rmse:0.37951\tvalid-rmse:0.42522\n",
      "[317]\ttrain-rmse:0.37938\tvalid-rmse:0.42521\n",
      "[318]\ttrain-rmse:0.37932\tvalid-rmse:0.42520\n",
      "[319]\ttrain-rmse:0.37929\tvalid-rmse:0.42518\n",
      "[320]\ttrain-rmse:0.37929\tvalid-rmse:0.42519\n",
      "[321]\ttrain-rmse:0.37918\tvalid-rmse:0.42518\n",
      "[322]\ttrain-rmse:0.37902\tvalid-rmse:0.42518\n",
      "[323]\ttrain-rmse:0.37884\tvalid-rmse:0.42516\n",
      "[324]\ttrain-rmse:0.37870\tvalid-rmse:0.42512\n",
      "[325]\ttrain-rmse:0.37851\tvalid-rmse:0.42512\n",
      "[326]\ttrain-rmse:0.37839\tvalid-rmse:0.42509\n",
      "[327]\ttrain-rmse:0.37819\tvalid-rmse:0.42507\n",
      "[328]\ttrain-rmse:0.37794\tvalid-rmse:0.42503\n",
      "[329]\ttrain-rmse:0.37780\tvalid-rmse:0.42502\n",
      "[330]\ttrain-rmse:0.37766\tvalid-rmse:0.42503\n",
      "[331]\ttrain-rmse:0.37746\tvalid-rmse:0.42500\n",
      "[332]\ttrain-rmse:0.37733\tvalid-rmse:0.42496\n",
      "[333]\ttrain-rmse:0.37713\tvalid-rmse:0.42488\n",
      "[334]\ttrain-rmse:0.37700\tvalid-rmse:0.42487\n",
      "[335]\ttrain-rmse:0.37678\tvalid-rmse:0.42485\n",
      "[336]\ttrain-rmse:0.37662\tvalid-rmse:0.42480\n",
      "[337]\ttrain-rmse:0.37644\tvalid-rmse:0.42474\n",
      "[338]\ttrain-rmse:0.37624\tvalid-rmse:0.42467\n",
      "[339]\ttrain-rmse:0.37611\tvalid-rmse:0.42464\n",
      "[340]\ttrain-rmse:0.37606\tvalid-rmse:0.42464\n",
      "[341]\ttrain-rmse:0.37590\tvalid-rmse:0.42463\n",
      "[342]\ttrain-rmse:0.37585\tvalid-rmse:0.42463\n",
      "[343]\ttrain-rmse:0.37571\tvalid-rmse:0.42464\n",
      "[344]\ttrain-rmse:0.37551\tvalid-rmse:0.42460\n",
      "[345]\ttrain-rmse:0.37535\tvalid-rmse:0.42463\n",
      "[346]\ttrain-rmse:0.37512\tvalid-rmse:0.42463\n",
      "[347]\ttrain-rmse:0.37488\tvalid-rmse:0.42457\n",
      "[348]\ttrain-rmse:0.37473\tvalid-rmse:0.42456\n",
      "[349]\ttrain-rmse:0.37471\tvalid-rmse:0.42456\n",
      "[350]\ttrain-rmse:0.37466\tvalid-rmse:0.42457\n",
      "[351]\ttrain-rmse:0.37464\tvalid-rmse:0.42457\n",
      "[352]\ttrain-rmse:0.37447\tvalid-rmse:0.42455\n",
      "[353]\ttrain-rmse:0.37430\tvalid-rmse:0.42457\n",
      "[354]\ttrain-rmse:0.37419\tvalid-rmse:0.42456\n",
      "[355]\ttrain-rmse:0.37400\tvalid-rmse:0.42452\n",
      "[356]\ttrain-rmse:0.37383\tvalid-rmse:0.42449\n",
      "[357]\ttrain-rmse:0.37367\tvalid-rmse:0.42448\n",
      "[358]\ttrain-rmse:0.37349\tvalid-rmse:0.42449\n",
      "[359]\ttrain-rmse:0.37335\tvalid-rmse:0.42445\n",
      "[360]\ttrain-rmse:0.37321\tvalid-rmse:0.42444\n",
      "[361]\ttrain-rmse:0.37311\tvalid-rmse:0.42443\n",
      "[362]\ttrain-rmse:0.37298\tvalid-rmse:0.42443\n",
      "[363]\ttrain-rmse:0.37296\tvalid-rmse:0.42442\n",
      "[364]\ttrain-rmse:0.37281\tvalid-rmse:0.42441\n",
      "[365]\ttrain-rmse:0.37273\tvalid-rmse:0.42437\n",
      "[366]\ttrain-rmse:0.37266\tvalid-rmse:0.42435\n",
      "[367]\ttrain-rmse:0.37261\tvalid-rmse:0.42431\n",
      "[368]\ttrain-rmse:0.37246\tvalid-rmse:0.42427\n",
      "[369]\ttrain-rmse:0.37229\tvalid-rmse:0.42425\n",
      "[370]\ttrain-rmse:0.37215\tvalid-rmse:0.42424\n",
      "[371]\ttrain-rmse:0.37205\tvalid-rmse:0.42421\n",
      "[372]\ttrain-rmse:0.37201\tvalid-rmse:0.42422\n",
      "[373]\ttrain-rmse:0.37187\tvalid-rmse:0.42424\n",
      "[374]\ttrain-rmse:0.37170\tvalid-rmse:0.42426\n",
      "[375]\ttrain-rmse:0.37160\tvalid-rmse:0.42425\n",
      "[376]\ttrain-rmse:0.37144\tvalid-rmse:0.42427\n",
      "[377]\ttrain-rmse:0.37123\tvalid-rmse:0.42425\n",
      "[378]\ttrain-rmse:0.37106\tvalid-rmse:0.42421\n",
      "[379]\ttrain-rmse:0.37086\tvalid-rmse:0.42416\n",
      "[380]\ttrain-rmse:0.37077\tvalid-rmse:0.42415\n",
      "[381]\ttrain-rmse:0.37061\tvalid-rmse:0.42413\n",
      "[382]\ttrain-rmse:0.37038\tvalid-rmse:0.42409\n",
      "[383]\ttrain-rmse:0.37020\tvalid-rmse:0.42408\n",
      "[384]\ttrain-rmse:0.37004\tvalid-rmse:0.42399\n",
      "[385]\ttrain-rmse:0.36987\tvalid-rmse:0.42398\n",
      "[386]\ttrain-rmse:0.36979\tvalid-rmse:0.42398\n",
      "[387]\ttrain-rmse:0.36967\tvalid-rmse:0.42394\n",
      "[388]\ttrain-rmse:0.36946\tvalid-rmse:0.42393\n",
      "[389]\ttrain-rmse:0.36935\tvalid-rmse:0.42393\n",
      "[390]\ttrain-rmse:0.36922\tvalid-rmse:0.42393\n",
      "[391]\ttrain-rmse:0.36910\tvalid-rmse:0.42391\n",
      "[392]\ttrain-rmse:0.36904\tvalid-rmse:0.42391\n",
      "[393]\ttrain-rmse:0.36895\tvalid-rmse:0.42390\n",
      "[394]\ttrain-rmse:0.36879\tvalid-rmse:0.42387\n",
      "[395]\ttrain-rmse:0.36862\tvalid-rmse:0.42382\n",
      "[396]\ttrain-rmse:0.36846\tvalid-rmse:0.42383\n",
      "[397]\ttrain-rmse:0.36829\tvalid-rmse:0.42382\n",
      "[398]\ttrain-rmse:0.36810\tvalid-rmse:0.42381\n",
      "[399]\ttrain-rmse:0.36792\tvalid-rmse:0.42378\n",
      "[400]\ttrain-rmse:0.36788\tvalid-rmse:0.42379\n",
      "[401]\ttrain-rmse:0.36783\tvalid-rmse:0.42379\n",
      "[402]\ttrain-rmse:0.36769\tvalid-rmse:0.42378\n",
      "[403]\ttrain-rmse:0.36756\tvalid-rmse:0.42376\n",
      "[404]\ttrain-rmse:0.36744\tvalid-rmse:0.42379\n",
      "[405]\ttrain-rmse:0.36727\tvalid-rmse:0.42380\n",
      "[406]\ttrain-rmse:0.36723\tvalid-rmse:0.42379\n",
      "[407]\ttrain-rmse:0.36715\tvalid-rmse:0.42377\n",
      "[408]\ttrain-rmse:0.36710\tvalid-rmse:0.42377\n",
      "[409]\ttrain-rmse:0.36695\tvalid-rmse:0.42374\n",
      "[410]\ttrain-rmse:0.36685\tvalid-rmse:0.42374\n",
      "[411]\ttrain-rmse:0.36666\tvalid-rmse:0.42372\n",
      "[412]\ttrain-rmse:0.36650\tvalid-rmse:0.42370\n",
      "[413]\ttrain-rmse:0.36637\tvalid-rmse:0.42366\n",
      "[414]\ttrain-rmse:0.36629\tvalid-rmse:0.42366\n",
      "[415]\ttrain-rmse:0.36619\tvalid-rmse:0.42363\n",
      "[416]\ttrain-rmse:0.36610\tvalid-rmse:0.42365\n",
      "[417]\ttrain-rmse:0.36598\tvalid-rmse:0.42366\n",
      "[418]\ttrain-rmse:0.36593\tvalid-rmse:0.42366\n",
      "[419]\ttrain-rmse:0.36575\tvalid-rmse:0.42366\n",
      "[420]\ttrain-rmse:0.36568\tvalid-rmse:0.42366\n",
      "[421]\ttrain-rmse:0.36548\tvalid-rmse:0.42363\n",
      "[422]\ttrain-rmse:0.36530\tvalid-rmse:0.42363\n",
      "[423]\ttrain-rmse:0.36517\tvalid-rmse:0.42363\n",
      "[424]\ttrain-rmse:0.36513\tvalid-rmse:0.42364\n",
      "[425]\ttrain-rmse:0.36502\tvalid-rmse:0.42358\n",
      "[426]\ttrain-rmse:0.36483\tvalid-rmse:0.42357\n",
      "[427]\ttrain-rmse:0.36468\tvalid-rmse:0.42359\n",
      "[428]\ttrain-rmse:0.36463\tvalid-rmse:0.42358\n",
      "[429]\ttrain-rmse:0.36455\tvalid-rmse:0.42358\n",
      "[430]\ttrain-rmse:0.36441\tvalid-rmse:0.42357\n",
      "[431]\ttrain-rmse:0.36426\tvalid-rmse:0.42356\n",
      "[432]\ttrain-rmse:0.36412\tvalid-rmse:0.42357\n",
      "[433]\ttrain-rmse:0.36407\tvalid-rmse:0.42360\n",
      "[434]\ttrain-rmse:0.36390\tvalid-rmse:0.42360\n",
      "[435]\ttrain-rmse:0.36376\tvalid-rmse:0.42357\n",
      "[436]\ttrain-rmse:0.36370\tvalid-rmse:0.42355\n",
      "[437]\ttrain-rmse:0.36362\tvalid-rmse:0.42355\n",
      "[438]\ttrain-rmse:0.36351\tvalid-rmse:0.42355\n",
      "[439]\ttrain-rmse:0.36339\tvalid-rmse:0.42355\n",
      "[440]\ttrain-rmse:0.36336\tvalid-rmse:0.42354\n",
      "[441]\ttrain-rmse:0.36316\tvalid-rmse:0.42350\n",
      "[442]\ttrain-rmse:0.36300\tvalid-rmse:0.42346\n",
      "[443]\ttrain-rmse:0.36284\tvalid-rmse:0.42345\n",
      "[444]\ttrain-rmse:0.36268\tvalid-rmse:0.42344\n",
      "[445]\ttrain-rmse:0.36266\tvalid-rmse:0.42345\n",
      "[446]\ttrain-rmse:0.36261\tvalid-rmse:0.42344\n",
      "[447]\ttrain-rmse:0.36250\tvalid-rmse:0.42340\n",
      "[448]\ttrain-rmse:0.36240\tvalid-rmse:0.42338\n",
      "[449]\ttrain-rmse:0.36228\tvalid-rmse:0.42338\n",
      "[450]\ttrain-rmse:0.36223\tvalid-rmse:0.42339\n",
      "[451]\ttrain-rmse:0.36222\tvalid-rmse:0.42338\n",
      "[452]\ttrain-rmse:0.36201\tvalid-rmse:0.42338\n",
      "[453]\ttrain-rmse:0.36189\tvalid-rmse:0.42337\n",
      "[454]\ttrain-rmse:0.36179\tvalid-rmse:0.42332\n",
      "[455]\ttrain-rmse:0.36161\tvalid-rmse:0.42329\n",
      "[456]\ttrain-rmse:0.36153\tvalid-rmse:0.42330\n",
      "[457]\ttrain-rmse:0.36133\tvalid-rmse:0.42324\n",
      "[458]\ttrain-rmse:0.36129\tvalid-rmse:0.42324\n",
      "[459]\ttrain-rmse:0.36114\tvalid-rmse:0.42325\n",
      "[460]\ttrain-rmse:0.36101\tvalid-rmse:0.42328\n",
      "[461]\ttrain-rmse:0.36100\tvalid-rmse:0.42328\n",
      "[462]\ttrain-rmse:0.36085\tvalid-rmse:0.42327\n",
      "[463]\ttrain-rmse:0.36069\tvalid-rmse:0.42326\n",
      "[464]\ttrain-rmse:0.36067\tvalid-rmse:0.42325\n",
      "[465]\ttrain-rmse:0.36049\tvalid-rmse:0.42322\n",
      "[466]\ttrain-rmse:0.36036\tvalid-rmse:0.42317\n",
      "[467]\ttrain-rmse:0.36028\tvalid-rmse:0.42315\n",
      "[468]\ttrain-rmse:0.36016\tvalid-rmse:0.42313\n",
      "[469]\ttrain-rmse:0.36006\tvalid-rmse:0.42313\n",
      "[470]\ttrain-rmse:0.35997\tvalid-rmse:0.42311\n",
      "[471]\ttrain-rmse:0.35986\tvalid-rmse:0.42311\n",
      "[472]\ttrain-rmse:0.35970\tvalid-rmse:0.42308\n",
      "[473]\ttrain-rmse:0.35959\tvalid-rmse:0.42306\n",
      "[474]\ttrain-rmse:0.35950\tvalid-rmse:0.42306\n",
      "[475]\ttrain-rmse:0.35931\tvalid-rmse:0.42304\n",
      "[476]\ttrain-rmse:0.35914\tvalid-rmse:0.42303\n",
      "[477]\ttrain-rmse:0.35906\tvalid-rmse:0.42305\n",
      "[478]\ttrain-rmse:0.35894\tvalid-rmse:0.42309\n",
      "[479]\ttrain-rmse:0.35882\tvalid-rmse:0.42309\n",
      "[480]\ttrain-rmse:0.35874\tvalid-rmse:0.42307\n",
      "[481]\ttrain-rmse:0.35865\tvalid-rmse:0.42309\n",
      "[482]\ttrain-rmse:0.35862\tvalid-rmse:0.42308\n",
      "[483]\ttrain-rmse:0.35847\tvalid-rmse:0.42306\n",
      "[484]\ttrain-rmse:0.35834\tvalid-rmse:0.42306\n",
      "[485]\ttrain-rmse:0.35819\tvalid-rmse:0.42305\n"
     ]
    }
   ],
   "source": [
    "bst = xgb.train(params, train_data, num_boost_round=1000, evals=data_list, early_stopping_rounds=10)"
   ],
   "metadata": {
    "collapsed": false
   }
  },
  {
   "cell_type": "markdown",
   "source": [
    "# Validate Test data"
   ],
   "metadata": {
    "collapsed": false
   }
  },
  {
   "cell_type": "code",
   "execution_count": 35,
   "outputs": [],
   "source": [
    "TEST_Q1_DATA_FILE = 'test_q1.npy'\n",
    "TEST_Q2_DATA_FILE = 'test_q2.npy'\n",
    "TEST_ID_DATA_FILE = 'test_id.npy'"
   ],
   "metadata": {
    "collapsed": false
   }
  },
  {
   "cell_type": "code",
   "execution_count": 45,
   "outputs": [],
   "source": [
    "test_q1_data = np.load(open(DATA_IN_PATH + TEST_Q1_DATA_FILE, 'rb'))\n",
    "test_q2_data = np.load(open(DATA_IN_PATH + TEST_Q2_DATA_FILE, 'rb'))\n",
    "test_id_data = np.load(open(DATA_IN_PATH + TEST_ID_DATA_FILE, 'rb'), allow_pickle=True)"
   ],
   "metadata": {
    "collapsed": false
   }
  },
  {
   "cell_type": "code",
   "execution_count": 46,
   "outputs": [],
   "source": [
    "test_input = np.stack((test_q1_data, test_q2_data), axis=1)\n",
    "test_data = xgb.DMatrix(test_input.sum(axis=1))"
   ],
   "metadata": {
    "collapsed": false
   }
  },
  {
   "cell_type": "code",
   "execution_count": 47,
   "outputs": [],
   "source": [
    "test_predict = bst.predict(test_data)"
   ],
   "metadata": {
    "collapsed": false
   }
  },
  {
   "cell_type": "markdown",
   "source": [
    "# Predict Output"
   ],
   "metadata": {
    "collapsed": false
   }
  },
  {
   "cell_type": "code",
   "execution_count": 55,
   "outputs": [],
   "source": [
    "import pandas as pd\n",
    "import os"
   ],
   "metadata": {
    "collapsed": false
   }
  },
  {
   "cell_type": "code",
   "execution_count": 56,
   "outputs": [],
   "source": [
    "DATA_OUT_PATH = './data_out/'"
   ],
   "metadata": {
    "collapsed": false
   }
  },
  {
   "cell_type": "code",
   "execution_count": 57,
   "outputs": [],
   "source": [
    "if not os.path.exists(DATA_OUT_PATH):\n",
    "    os.makedirs(DATA_OUT_PATH)"
   ],
   "metadata": {
    "collapsed": false
   }
  },
  {
   "cell_type": "code",
   "execution_count": 58,
   "outputs": [],
   "source": [
    "output = pd.DataFrame({'test_id': test_id_data, 'is_duplicate':test_predict})"
   ],
   "metadata": {
    "collapsed": false
   }
  },
  {
   "cell_type": "code",
   "execution_count": 59,
   "outputs": [],
   "source": [
    "output.to_csv(DATA_OUT_PATH + 'simple_xgb.csv', index=False)"
   ],
   "metadata": {
    "collapsed": false
   }
  }
 ],
 "metadata": {
  "kernelspec": {
   "display_name": "Python 3",
   "language": "python",
   "name": "python3"
  },
  "language_info": {
   "codemirror_mode": {
    "name": "ipython",
    "version": 2
   },
   "file_extension": ".py",
   "mimetype": "text/x-python",
   "name": "python",
   "nbconvert_exporter": "python",
   "pygments_lexer": "ipython2",
   "version": "2.7.6"
  }
 },
 "nbformat": 4,
 "nbformat_minor": 0
}
