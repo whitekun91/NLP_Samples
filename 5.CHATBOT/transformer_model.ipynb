{
 "cells": [
  {
   "cell_type": "code",
   "execution_count": 1,
   "metadata": {
    "collapsed": true
   },
   "outputs": [
    {
     "name": "stderr",
     "output_type": "stream",
     "text": [
      "2024-08-03 19:47:49.392479: I tensorflow/core/util/port.cc:113] oneDNN custom operations are on. You may see slightly different numerical results due to floating-point round-off errors from different computation orders. To turn them off, set the environment variable `TF_ENABLE_ONEDNN_OPTS=0`.\n",
      "2024-08-03 19:47:49.641071: E external/local_xla/xla/stream_executor/cuda/cuda_dnn.cc:9261] Unable to register cuDNN factory: Attempting to register factory for plugin cuDNN when one has already been registered\n",
      "2024-08-03 19:47:49.641110: E external/local_xla/xla/stream_executor/cuda/cuda_fft.cc:607] Unable to register cuFFT factory: Attempting to register factory for plugin cuFFT when one has already been registered\n",
      "2024-08-03 19:47:49.682110: E external/local_xla/xla/stream_executor/cuda/cuda_blas.cc:1515] Unable to register cuBLAS factory: Attempting to register factory for plugin cuBLAS when one has already been registered\n",
      "2024-08-03 19:47:49.767936: I tensorflow/core/platform/cpu_feature_guard.cc:182] This TensorFlow binary is optimized to use available CPU instructions in performance-critical operations.\n",
      "To enable the following instructions: AVX2 AVX_VNNI FMA, in other operations, rebuild TensorFlow with the appropriate compiler flags.\n",
      "2024-08-03 19:47:50.674338: W tensorflow/compiler/tf2tensorrt/utils/py_utils.cc:38] TF-TRT Warning: Could not find TensorRT\n"
     ]
    }
   ],
   "source": [
    "import tensorflow as tf\n",
    "import numpy as np\n",
    "\n",
    "from konlpy.tag import Twitter\n",
    "import pandas as pd\n",
    "import tensorflow as tf\n",
    "import enum\n",
    "import os\n",
    "import re\n",
    "import json\n",
    "from sklearn.model_selection import train_test_split\n",
    "\n",
    "from tensorflow.keras.callbacks import EarlyStopping, ModelCheckpoint\n",
    "import matplotlib.pyplot as plt\n",
    "\n",
    "from preprocessor import *"
   ]
  },
  {
   "cell_type": "markdown",
   "source": [
    "# Graph visualization"
   ],
   "metadata": {
    "collapsed": false
   }
  },
  {
   "cell_type": "code",
   "execution_count": 2,
   "outputs": [],
   "source": [
    "def plot_graphs(history, string):\n",
    "    plt.plot(history.history[string])\n",
    "    plt.plot(history.history['val_'+string], '')\n",
    "    plt.xlabel(\"Epochs\")\n",
    "    plt.ylabel(string)\n",
    "    plt.legend([string, 'val_'+string])\n",
    "    plt.show()"
   ],
   "metadata": {
    "collapsed": false
   }
  },
  {
   "cell_type": "markdown",
   "source": [
    "# Load Data set"
   ],
   "metadata": {
    "collapsed": false
   }
  },
  {
   "cell_type": "code",
   "execution_count": 3,
   "outputs": [],
   "source": [
    "DATA_IN_PATH = './data_set/'\n",
    "DATA_OUT_PATH = './data_out/'\n",
    "TRAIN_INPUTS = 'train_inputs.npy'\n",
    "TRAIN_OUTPUTS = 'train_outputs.npy'\n",
    "TRAIN_TARGETS = 'train_targets.npy'\n",
    "DATA_CONFIGS = 'data_configs.json'"
   ],
   "metadata": {
    "collapsed": false
   }
  },
  {
   "cell_type": "code",
   "execution_count": 4,
   "outputs": [],
   "source": [
    "index_inputs = np.load(open(DATA_IN_PATH + TRAIN_INPUTS, 'rb'))\n",
    "index_outputs = np.load(open(DATA_IN_PATH + TRAIN_OUTPUTS , 'rb'))\n",
    "index_targets = np.load(open(DATA_IN_PATH + TRAIN_TARGETS , 'rb'))\n",
    "prepro_configs = json.load(open(DATA_IN_PATH + DATA_CONFIGS, 'r'))"
   ],
   "metadata": {
    "collapsed": false
   }
  },
  {
   "cell_type": "markdown",
   "source": [
    "# Fix Random Seed"
   ],
   "metadata": {
    "collapsed": false
   }
  },
  {
   "cell_type": "code",
   "execution_count": 5,
   "outputs": [],
   "source": [
    "SEED_NUM = 1234\n",
    "tf.random.set_seed(SEED_NUM)"
   ],
   "metadata": {
    "collapsed": false
   }
  },
  {
   "cell_type": "markdown",
   "source": [
    "# Model Setting"
   ],
   "metadata": {
    "collapsed": false
   }
  },
  {
   "cell_type": "code",
   "execution_count": 6,
   "outputs": [],
   "source": [
    "char2idx = prepro_configs['char2idx']\n",
    "end_index = prepro_configs['end_symbol']\n",
    "model_name = 'transformer'\n",
    "vocab_size = prepro_configs['vocab_size']\n",
    "BATCH_SIZE = 2\n",
    "MAX_SEQUENCE = 25\n",
    "EPOCHS = 30\n",
    "VALID_SPLIT = 0.1"
   ],
   "metadata": {
    "collapsed": false
   }
  },
  {
   "cell_type": "code",
   "execution_count": 7,
   "outputs": [
    {
     "data": {
      "text/plain": "{'<PAD>': 0,\n '<SOS>': 1,\n '<END>': 2,\n '<UNK>': 3,\n '밤샜어': 4,\n '생각나네': 5,\n '잘자': 6,\n '밤이네요': 7,\n '세달': 8,\n '사로잡는': 9,\n '새벽': 10,\n '챙김받고': 11,\n '좋겠는': 12,\n '쇼핑했더니': 13,\n '붙잡아도': 14,\n '만들어줄까': 15,\n '울렸으면': 16,\n '냉정해진다': 17,\n '휘성노래가': 18,\n '톡을': 19,\n '아니지요': 20,\n '실행해보세요': 21,\n '걱정임': 22,\n '차였어': 23,\n '봐달라고': 24,\n '나른하다': 25,\n '이야기해주세요': 26,\n '휴반년이라는': 27,\n '3개월만에': 28,\n '듣고': 29,\n '결혼하재': 30,\n '쓴만큼': 31,\n '오려나': 32,\n '마지막으로': 33,\n '위험하네요': 34,\n '이상형뿐일': 35,\n '썼다가': 36,\n '기적같은': 37,\n '따르나봐요': 38,\n '양해를': 39,\n '않은거예요': 40,\n '허전하신가봐요': 41,\n '배웠길': 42,\n '한살': 43,\n '방금다녀와서': 44,\n '이사를': 45,\n '사람에게': 46,\n '첫만남': 47,\n '확인사살': 48,\n '정리해야할': 49,\n '책상': 50,\n '어릴땐': 51,\n '자격증': 52,\n '잔인했던가': 53,\n '미팅에서': 54,\n '울어버려요': 55,\n '통장': 56,\n '면접': 57,\n '욕은': 58,\n '잊혀질거라': 59,\n '바라는것도': 60,\n '빠졌나봐요': 61,\n '생각들이': 62,\n '없답니다': 63,\n '투자한': 64,\n '기억안': 65,\n '행복': 66,\n '야식': 67,\n '택배': 68,\n '답답하겠네요': 69,\n '거랑': 70,\n '답답한게': 71,\n '맞춰보는': 72,\n '귀찮게해': 73,\n '배울': 74,\n '생각': 75,\n '모른': 76,\n '멀리하세요': 77,\n '연속이예요': 78,\n '부르는게': 79,\n '사귄대': 80,\n '현실이라는': 81,\n '배우니까': 82,\n '혼자': 83,\n '거부감': 84,\n '권유하고': 85,\n '오래됐는데': 86,\n '집중했으면': 87,\n '사람인데': 88,\n '연락과': 89,\n '운동하자고': 90,\n '않아요': 91,\n '좋아지고': 92,\n '고고씽': 93,\n '별로인가': 94,\n '3개월이': 95,\n '나오겠지': 96,\n '뻥': 97,\n '애인데': 98,\n '될가': 99,\n '좋음': 100,\n '크게한번': 101,\n '모든게': 102,\n '들어줬으면': 103,\n '쌍커풀': 104,\n '정리하길': 105,\n '날짜': 106,\n '천지': 107,\n '만남은': 108,\n '났어': 109,\n '천국과': 110,\n '배정': 111,\n '스타일의': 112,\n '설렘은': 113,\n '수학여행가는데': 114,\n '외국에도': 115,\n '많은가봅니다': 116,\n '표현하는': 117,\n '혼자가': 118,\n '사람들이': 119,\n '모아야': 120,\n '다음부터는': 121,\n '이해는': 122,\n '연애하다보면': 123,\n '좋은점': 124,\n '어찌해야': 125,\n '20': 126,\n '인연이었으면': 127,\n '새롭지않은게': 128,\n '널보며': 129,\n '착할': 130,\n '그럼': 131,\n '간식도': 132,\n '남친의': 133,\n '피부관리까지': 134,\n '맛이': 135,\n '연락해봤네': 136,\n '기술': 137,\n '물질적인': 138,\n '썸인지': 139,\n '관련된': 140,\n '참견하는': 141,\n '감수성이': 142,\n '여자애한테': 143,\n '타도': 144,\n '한다는데': 145,\n '이벤트가': 146,\n '합니다': 147,\n '철은': 148,\n '훌쩍': 149,\n '되었어': 150,\n '이별일텐데': 151,\n '안되나봐요': 152,\n '버릇고치기': 153,\n '지치네': 154,\n '와플': 155,\n '조용한': 156,\n '거지같은': 157,\n '할거야': 158,\n '날씨': 159,\n '뒷감당': 160,\n '배려해야했어': 161,\n '아닙니다': 162,\n '생각해서': 163,\n '하자는데': 164,\n '동성애': 165,\n '비오니까': 166,\n '받아들여야지': 167,\n '사회생활을': 168,\n '역을': 169,\n '보내보세요': 170,\n '느낄': 171,\n '힘내줘': 172,\n '당황했어': 173,\n '연속인': 174,\n '마음만': 175,\n '여행가려': 176,\n '치매일까봐': 177,\n '벗고': 178,\n '어지러워': 179,\n '막했어': 180,\n '의견': 181,\n '먹여주나요': 182,\n '고민은': 183,\n '투덜투덜': 184,\n '앞이': 185,\n '7년째': 186,\n '설렘을': 187,\n '끝나지': 188,\n '아까운': 189,\n '시절엔': 190,\n '낮술먹는날': 191,\n '중요하게': 192,\n '했을거라': 193,\n '인형뽑기': 194,\n '소화시켜야': 195,\n '무덤덤해질': 196,\n '육아': 197,\n '지금보다': 198,\n '녀석': 199,\n '아닌게': 200,\n '감정은': 201,\n '필요하다고': 202,\n '메모하는': 203,\n '심해지는듯': 204,\n '허무하네요': 205,\n '이불킥하게': 206,\n '내장': 207,\n '만들어볼까': 208,\n '집들이': 209,\n '쉬운가': 210,\n '더없이': 211,\n '직전': 212,\n '선을': 213,\n '편인데': 214,\n '되어': 215,\n '이빠이': 216,\n '알아봤는데': 217,\n '풀린거': 218,\n '생겼다는대': 219,\n '견디기가': 220,\n '담배피는게': 221,\n '법은': 222,\n '운이좋은건지': 223,\n '극혐': 224,\n '취향을': 225,\n '날카로워져': 226,\n '접어야': 227,\n '알아주실거예요': 228,\n '화내실텐데': 229,\n '한켠엔': 230,\n '쉬는': 231,\n '왕만두': 232,\n '인상깊을까': 233,\n '선톡해도': 234,\n '지압이나': 235,\n '공시생이야': 236,\n '아니에요': 237,\n '번호를': 238,\n '마음가짐으로': 239,\n '제잘못으로인한이별': 240,\n '소가': 241,\n '종종': 242,\n '시원하게': 243,\n '힘들만하다고': 244,\n '소풍': 245,\n '여행가': 246,\n '냄새날텐데': 247,\n '상대한테': 248,\n '돌아섰어': 249,\n '허전함에': 250,\n '끝나길': 251,\n '생각날테니': 252,\n '알아보세요': 253,\n '보래': 254,\n '친구인데': 255,\n '옷좀': 256,\n '시간이흘렀네': 257,\n '공무원': 258,\n '지낸다는': 259,\n '광탈': 260,\n '기적이죠': 261,\n '자괴감에서': 262,\n '불빛으로': 263,\n '가능할까요': 264,\n '남이죠': 265,\n '4년째': 266,\n '그럴지도': 267,\n '관계': 268,\n '쓰담쓰담해보세요': 269,\n '뭐예요': 270,\n '삐끗했어': 271,\n '노답이네': 272,\n '늦거나': 273,\n '분다': 274,\n '연애세포가': 275,\n '벗어줌': 276,\n '미끄러질': 277,\n '유발해': 278,\n '년': 279,\n '연락해봐요': 280,\n '추억까지': 281,\n '계탔어': 282,\n '뒤': 283,\n '5년': 284,\n '하루이길': 285,\n '정신차려야': 286,\n '취한': 287,\n '체육대회한데': 288,\n '중문': 289,\n '15일': 290,\n '병이죠': 291,\n '설레지': 292,\n '이어질': 293,\n '두근거려요': 294,\n '사겨보세요': 295,\n '헤어지자': 296,\n '결재': 297,\n '가기로': 298,\n '보통은': 299,\n '전화받으니': 300,\n '끝날': 301,\n '아프네': 302,\n '나쁜건지': 303,\n '달이': 304,\n '변하지': 305,\n '뒤통수': 306,\n '바라요': 307,\n '귀찮게': 308,\n '이상형이랑': 309,\n '4일': 310,\n '길에서': 311,\n '뉴게임': 312,\n '크겠어요': 313,\n '자책하지마세요': 314,\n '글을': 315,\n '하려는': 316,\n '힘들지만': 317,\n '수긍할': 318,\n '전여친에게': 319,\n '참지못하고': 320,\n '썸타고': 321,\n '잊혀지겠지': 322,\n '당사자도': 323,\n '풀었네요': 324,\n '무너짐': 325,\n '좋겠지만': 326,\n '말문이': 327,\n '자들의': 328,\n '한다고': 329,\n '건강': 330,\n '새해부터는': 331,\n '전여친이랑': 332,\n '반지': 333,\n '안친한데': 334,\n '기회를': 335,\n '당신을': 336,\n '재미있을': 337,\n '후회하진': 338,\n '바보야': 339,\n '이루어질': 340,\n '오르고': 341,\n '한심하네ㅜㅜ': 342,\n '노는게': 343,\n '의자': 344,\n '벚꽃구경': 345,\n '처량하고': 346,\n '취소': 347,\n '바래다': 348,\n '봤다고': 349,\n '동심으로': 350,\n '먹먹하네': 351,\n '보자': 352,\n '사랑일까': 353,\n '말하지': 354,\n '오후되면': 355,\n '잘할거라': 356,\n '헤어지신': 357,\n '나온': 358,\n '놀아보면': 359,\n '단계라면': 360,\n '야구장이나': 361,\n '주무셨나봐요': 362,\n '문제네요': 363,\n '어색한': 364,\n '버티고': 365,\n '낫지요': 366,\n '잘못했다고': 367,\n '말해야겠다': 368,\n '소주한잔': 369,\n '만들어가면': 370,\n '잘못한': 371,\n '쌩얼': 372,\n '켠에': 373,\n '이별이지만': 374,\n '끊기': 375,\n '이별중이신': 376,\n '최소': 377,\n '기분은': 378,\n '사랑하던': 379,\n '핑핑': 380,\n '벌면': 381,\n '붙잡아보세요': 382,\n '챙겨야해요': 383,\n '연락하면서': 384,\n '한달됐습니다': 385,\n '거절해': 386,\n '사이즈를': 387,\n '내려요': 388,\n '증명자료를': 389,\n '밀려오라': 390,\n '이별을': 391,\n '두근거리겠네요': 392,\n '표현하세요': 393,\n '상처들': 394,\n '2개월': 395,\n '힘들어지기만': 396,\n '슬프네': 397,\n '바꼈어': 398,\n '감정과': 399,\n '지나다니고': 400,\n '일전에': 401,\n '쇼핑': 402,\n '인과응보': 403,\n '느껴지면': 404,\n '억울한': 405,\n '호의적이에요': 406,\n '당연한줄': 407,\n '가는거': 408,\n '미련도': 409,\n '대하는': 410,\n '일화가': 411,\n '한방향인지': 412,\n '받네': 413,\n '모르겠지': 414,\n '나쁜놈인가': 415,\n '까먹을': 416,\n '거짓말이겠지요': 417,\n '쉬려고': 418,\n '이라도': 419,\n '했어': 420,\n '드라이브갈껀데': 421,\n '노래방을': 422,\n '6개월이네': 423,\n '재설계가': 424,\n '돼가네': 425,\n '여자친구랑': 426,\n '죽었다': 427,\n '유지하는': 428,\n '우연한': 429,\n '깔끔히': 430,\n '기다렸나봐': 431,\n '때리기': 432,\n '늦잠과': 433,\n '갖지': 434,\n '무리하면': 435,\n '피자': 436,\n '학기를': 437,\n '반영된다고': 438,\n '봤으면': 439,\n '적': 440,\n '날이예요': 441,\n '더생각나고': 442,\n '극복하세요': 443,\n '스킨십하려고해': 444,\n '도전은': 445,\n '멍때리는것도': 446,\n '간절하겠네요': 447,\n '보이고': 448,\n '연휴가': 449,\n '전남자친구': 450,\n '고백해도될까': 451,\n '무관심': 452,\n '건냈던': 453,\n '어언': 454,\n '오래가는': 455,\n '쐬야겠다': 456,\n '걱정해': 457,\n '빌어줘': 458,\n '복잡하네요': 459,\n '못챙겼어': 460,\n '조심': 461,\n '커': 462,\n '오지': 463,\n '무지갯빛이': 464,\n '쉽고': 465,\n '혼자있는게': 466,\n '데이트요': 467,\n '허무하네': 468,\n '여느': 469,\n '지내봅시다': 470,\n '사랑만': 471,\n '인내하면': 472,\n '벌레': 473,\n '팔베개하고': 474,\n '휘둘리는': 475,\n '사랑인지': 476,\n '자체가': 477,\n '남자': 478,\n '인사해줬어': 479,\n '재가입': 480,\n '2달째': 481,\n '꿈이라도': 482,\n '상의하면': 483,\n '상관없이': 484,\n '오르고있는줄': 485,\n '울면서': 486,\n '예능도': 487,\n '제가': 488,\n '집안': 489,\n '바늘과': 490,\n '떡볶이': 491,\n '일을': 492,\n '힘내려': 493,\n '내리지': 494,\n '밤보다': 495,\n '주워담지': 496,\n '향기에': 497,\n '알': 498,\n '있으신가봐요': 499,\n '신경쓰지': 500,\n '무덤덤해지기도': 501,\n '보아요': 502,\n '표현해주세요': 503,\n '별의별': 504,\n '한바퀴만': 505,\n '끝나도': 506,\n '헤어져야하는': 507,\n '괜찮아지길': 508,\n '밝혀보세요': 509,\n '봐야': 510,\n '김칫국물은': 511,\n '보람될까': 512,\n '하루하루': 513,\n '이만': 514,\n '것보다': 515,\n '당신의': 516,\n '않는편이': 517,\n '못자는': 518,\n '보시고': 519,\n '추천하고': 520,\n '월급날이': 521,\n '얼굴이': 522,\n '당연하죠': 523,\n '했던거라': 524,\n '인연이라면': 525,\n '벗었는데': 526,\n '후각이': 527,\n '오지랍': 528,\n '힘은': 529,\n '불안한': 530,\n '하진짜': 531,\n '찾아갔습니다': 532,\n '살죠': 533,\n '연락을기다려야해': 534,\n '여자로': 535,\n '문신하고': 536,\n '한마디네요': 537,\n '상했겠어요': 538,\n '후배래': 539,\n '벌었어': 540,\n '어른인척': 541,\n '매너라고': 542,\n '감정적인': 543,\n '일어났어': 544,\n '무모함이': 545,\n '흐지부지야': 546,\n '부메랑이': 547,\n '것들': 548,\n '지우진': 549,\n '버스': 550,\n '겁난다': 551,\n '연애하면': 552,\n '젖는': 553,\n '만큼이요': 554,\n '감았는데': 555,\n '폭식증인듯': 556,\n '제주도로': 557,\n '치맥먹으면서': 558,\n '6개월': 559,\n '되는건지': 560,\n '달려있을지도': 561,\n '마무리가': 562,\n '즐기나봐요': 563,\n '인정받고': 564,\n '말도': 565,\n '추억도': 566,\n '연애했더니': 567,\n '돌려말하지': 568,\n '싱숭생숭할': 569,\n '드라마나': 570,\n '해요': 571,\n '먹을게': 572,\n '썸인가': 573,\n '모습의': 574,\n '흐를': 575,\n '저음이': 576,\n '통보': 577,\n '편합니다': 578,\n '기계사서': 579,\n '멀리서': 580,\n '사람들에': 581,\n '생각하고': 582,\n '건': 583,\n '후회없는': 584,\n '별로임': 585,\n '시간을': 586,\n '나오는게': 587,\n '최우선이죠': 588,\n '길어졌어': 589,\n '허상일': 590,\n '선풍기가': 591,\n '알바비가': 592,\n '보이면': 593,\n '연락중': 594,\n '끝내더라': 595,\n '애석하네요': 596,\n '막고싶은데': 597,\n '놀러가지': 598,\n '멋졌어': 599,\n '결혼준비하는데': 600,\n '태도네요': 601,\n '한번쯤': 602,\n '멈춰버려서': 603,\n '차례네요': 604,\n '예정': 605,\n '없어졌다': 606,\n '익숙해지기': 607,\n '그에게서': 608,\n '바빠도': 609,\n '행운까지': 610,\n '어디있을까': 611,\n '생각한': 612,\n '들켜서': 613,\n '영화': 614,\n '보내주는': 615,\n '떨어져서': 616,\n '도와줘': 617,\n '기회는': 618,\n '자기중심적인': 619,\n '잘해주세요': 620,\n '입어보는': 621,\n '흘렀어요': 622,\n '떠나야겠다': 623,\n '꿈에서라도': 624,\n '짱나는새끼': 625,\n '그대로를': 626,\n '가수의': 627,\n '있겠다': 628,\n '부러워': 629,\n '물어보기': 630,\n '아직도': 631,\n '넘어질뻔했어': 632,\n '났나봐': 633,\n '대체': 634,\n '일들을': 635,\n '직접적인': 636,\n '다시만나고싶어': 637,\n '극복': 638,\n '좁네요': 639,\n '내립니다': 640,\n '냉장고가': 641,\n '과식해서': 642,\n '괜찮아졌는줄': 643,\n '채워드릴게요': 644,\n '밥먹자': 645,\n '얻을': 646,\n '잃어버렸어': 647,\n '상처': 648,\n '사랑이라고': 649,\n '감정싸움': 650,\n '이별하신분들': 651,\n '시원섭섭하지만': 652,\n '진짜미칠꺼같네': 653,\n '맘같지': 654,\n '말들음': 655,\n '되기가': 656,\n '대리': 657,\n '알아볼': 658,\n '비용을': 659,\n '끝나나': 660,\n '한잔만': 661,\n '공유해보세요': 662,\n '자신한테': 663,\n '사이네요': 664,\n '설레길': 665,\n '주면서': 666,\n '컨트롤을': 667,\n '충전해야지': 668,\n '걸려요': 669,\n '낚시는': 670,\n '라면봉지': 671,\n '축복은': 672,\n '당사자만': 673,\n '외국어는': 674,\n '쌩얼도': 675,\n '창가를': 676,\n '한마디': 677,\n '불쌍한': 678,\n '만나라고': 679,\n '소식에는': 680,\n '꿈에는': 681,\n '버스타면': 682,\n '기대하면': 683,\n '멈추지': 684,\n '착하긴한데': 685,\n '부족했네요': 686,\n '났나봅니다': 687,\n '필요하답니다': 688,\n '팩해야지': 689,\n '맞출': 690,\n '공항': 691,\n '잘해주지': 692,\n '지난시점': 693,\n '재회하고': 694,\n '일상을': 695,\n '넘': 696,\n '연락에': 697,\n '작아지곤': 698,\n '하셨네요': 699,\n '가족들이랑': 700,\n '보고싶어': 701,\n '돌아갑시다': 702,\n '사귀면서': 703,\n '우선순위면': 704,\n '하트를': 705,\n '팔아': 706,\n '하지않는게': 707,\n '늦어': 708,\n '그것은': 709,\n '친구에서': 710,\n '아프기': 711,\n '바꾸고': 712,\n '슈퍼문이야': 713,\n '부담을': 714,\n '너무너무너무': 715,\n '자리라': 716,\n '노력하면': 717,\n '없을거': 718,\n '하는거야': 719,\n '든다': 720,\n '안했다': 721,\n '시원하네요': 722,\n '물어봐봐요': 723,\n '먹으래': 724,\n '처음한': 725,\n '알았다': 726,\n '요즘따라': 727,\n '멀었네요': 728,\n '사랑했다면': 729,\n '허락하는': 730,\n '거라고': 731,\n '두려워지는': 732,\n '이상하게': 733,\n '놓아달라는': 734,\n '외롭다고': 735,\n '평상시처럼': 736,\n '연락두절돼서': 737,\n '게임할때는': 738,\n '들어왔나봅니다': 739,\n '답은': 740,\n '결혼준비하면서': 741,\n '술마시는': 742,\n '따기': 743,\n '오해하는': 744,\n '핑계로': 745,\n '저도요': 746,\n '사랑해주는': 747,\n '데이트죠': 748,\n '되게': 749,\n '안되': 750,\n '뭐냐': 751,\n '빌려보세요': 752,\n '1달': 753,\n '있으세요': 754,\n '믿으세요': 755,\n '상사에게': 756,\n '멈춰지질': 757,\n '고르고': 758,\n '우을증있는': 759,\n '선풍기': 760,\n '뉴스가': 761,\n '갔다옴': 762,\n '내려가서': 763,\n '첫이별': 764,\n '발이': 765,\n '아침이': 766,\n '단순한': 767,\n '사귀기도': 768,\n '끝나는': 769,\n '썸의': 770,\n '쑥쑥': 771,\n '너무힘드네': 772,\n '연락오지': 773,\n '머리랑': 774,\n '되셨나요': 775,\n '살거야': 776,\n '설렘': 777,\n '미련한': 778,\n '인정해줄': 779,\n '혼자인게': 780,\n '출퇴근을': 781,\n '신기해': 782,\n '봄방학했어': 783,\n '잠에서': 784,\n '여행지': 785,\n '찢어지고': 786,\n '챗봇할래': 787,\n '부족한지': 788,\n '좋아하는지': 789,\n '먹은': 790,\n '폭식증': 791,\n '심남이': 792,\n '반대래요': 793,\n '이기는': 794,\n '무뎌진줄': 795,\n '화려하지': 796,\n '썸인데': 797,\n '기원': 798,\n '이별할때': 799,\n '공휴일에': 800,\n '힘': 801,\n '투성이에요': 802,\n '예상하지': 803,\n '고비예요': 804,\n '속지말고': 805,\n '골인': 806,\n '때문이겠죠': 807,\n '후아': 808,\n '신경쓰여': 809,\n '친구로부터': 810,\n '심하네요': 811,\n '마주치겠음': 812,\n '놀러와': 813,\n '싸움이': 814,\n '데려가세요': 815,\n '크기가': 816,\n '사람의': 817,\n '핑계보다': 818,\n '사나워질': 819,\n '재미있나봐요': 820,\n '걸어다니면서': 821,\n '낙엽': 822,\n '연애니': 823,\n '커플': 824,\n '방식에': 825,\n '멋있게': 826,\n '혼인신고하니까': 827,\n '위장에': 828,\n '동생으로': 829,\n '다녀왔어': 830,\n '있어요': 831,\n '하니까': 832,\n '추억일': 833,\n '정리될지도': 834,\n '추세더라구요': 835,\n '띄는': 836,\n '왓어': 837,\n '남겨보세요': 838,\n '연습을': 839,\n '우리서로': 840,\n '없어': 841,\n '때매': 842,\n '사소하면서도': 843,\n '옆에서': 844,\n '생각했던': 845,\n '살아간다': 846,\n '결혼인거야': 847,\n '된대': 848,\n '돌아올거': 849,\n '놀아드리고': 850,\n '부끄러운': 851,\n '들어왔어': 852,\n '성급했던': 853,\n '차': 854,\n '거는게': 855,\n '깨졌는데': 856,\n '않을거예요': 857,\n '미안함': 858,\n '되는날': 859,\n '준비하는데': 860,\n '다이어트해야': 861,\n '생각나죠': 862,\n '거요': 863,\n '잃었었네': 864,\n '번이면': 865,\n '아이다워야': 866,\n '창업해야': 867,\n '비행기표가': 868,\n '군대': 869,\n '벌려도': 870,\n '챙겨주지': 871,\n '만하죠': 872,\n '성덕이': 873,\n '할래': 874,\n '유행이래': 875,\n '지쳤나요': 876,\n '하울이나': 877,\n '옷깃만': 878,\n '반한': 879,\n '짓은': 880,\n '참아': 881,\n '해몽': 882,\n '뜨끈한': 883,\n '거울보는게': 884,\n '취향이더라도': 885,\n '독하게': 886,\n '보냈던': 887,\n '두명이라': 888,\n '여기까지': 889,\n '벌려야겠다': 890,\n '실수했나': 891,\n '얼마해야': 892,\n '걱정되지': 893,\n '여친은': 894,\n '저렴하게': 895,\n '연인끼리': 896,\n '도움되시길': 897,\n '존재감을': 898,\n '돌아오길': 899,\n '그러려고': 900,\n '넘어가네': 901,\n '사회에서도': 902,\n '변화의': 903,\n '말해주겠죠': 904,\n '끝낫네': 905,\n '각자가': 906,\n '있었겠어요': 907,\n '늦은것': 908,\n '중요한가요': 909,\n '나이들면서': 910,\n '봄이다': 911,\n '자꾸만': 912,\n '필요하겠지': 913,\n '돼지': 914,\n '저음': 915,\n '잘못을': 916,\n '전화해야': 917,\n '시켜': 918,\n '독한': 919,\n '듣고싶지': 920,\n '지켜보는': 921,\n '심심해요': 922,\n '가라고': 923,\n '마침표가': 924,\n '드려': 925,\n '존중합니다': 926,\n '길어진다': 927,\n '지우개가': 928,\n '꿈이었나요': 929,\n '만지지': 930,\n '병걸리겠어ㅠㅠ': 931,\n '알기가': 932,\n '지새웠네': 933,\n '쳐다': 934,\n '좋았길': 935,\n '어제가': 936,\n '연락이었길': 937,\n '잊는': 938,\n '화났는지': 939,\n '8년의': 940,\n '진담하는': 941,\n '배터리가': 942,\n '짝사랑은': 943,\n '헤어짐도': 944,\n '사랑이라는': 945,\n '있다고': 946,\n '받아들여요': 947,\n '잘지내는지': 948,\n '킁킁': 949,\n '잘라야지': 950,\n '설계': 951,\n '불타올랐다가': 952,\n '놔줄라고': 953,\n '몰랐는데': 954,\n '사': 955,\n '식욕이': 956,\n '끝난걸까': 957,\n '단둘이는': 958,\n '다른걸': 959,\n '표현해주는': 960,\n '죽고싶어': 961,\n '돌려': 962,\n '끝이죠': 963,\n '기대': 964,\n '헤어지니까': 965,\n '이야기가': 966,\n '기다렸다가': 967,\n '알았는': 968,\n '괜히': 969,\n '기준에': 970,\n '기운이': 971,\n '됐지': 972,\n '쓸쓸하겠네요': 973,\n '해줄까': 974,\n '금연': 975,\n '국경이': 976,\n '아무거나': 977,\n '아직은': 978,\n '무서워서': 979,\n '좋아하면서': 980,\n '보다보면': 981,\n '사치인거': 982,\n '이어폰': 983,\n '또다시': 984,\n '이해하려고': 985,\n '받아준게': 986,\n '목소리가': 987,\n '안가지고': 988,\n '차였지만': 989,\n '차인사람': 990,\n '기적인': 991,\n '변덕스럽지요': 992,\n '중인데': 993,\n '남았길': 994,\n '좋은날': 995,\n '언젠간': 996,\n '일어나': 997,\n '내려올': 998,\n '기억해서': 999,\n ...}"
     },
     "execution_count": 7,
     "metadata": {},
     "output_type": "execute_result"
    }
   ],
   "source": [
    "char2idx"
   ],
   "metadata": {
    "collapsed": false
   }
  },
  {
   "cell_type": "code",
   "execution_count": 8,
   "outputs": [
    {
     "data": {
      "text/plain": "'<END>'"
     },
     "execution_count": 8,
     "metadata": {},
     "output_type": "execute_result"
    }
   ],
   "source": [
    "end_index"
   ],
   "metadata": {
    "collapsed": false
   }
  },
  {
   "cell_type": "code",
   "execution_count": 9,
   "outputs": [
    {
     "data": {
      "text/plain": "20705"
     },
     "execution_count": 9,
     "metadata": {},
     "output_type": "execute_result"
    }
   ],
   "source": [
    "vocab_size"
   ],
   "metadata": {
    "collapsed": false
   }
  },
  {
   "cell_type": "code",
   "execution_count": 10,
   "outputs": [],
   "source": [
    "kargs = {'model_name': model_name,\n",
    "         'num_layers': 2,\n",
    "         'd_model': 512,\n",
    "         'num_heads': 8,\n",
    "         'dff': 2048,\n",
    "         'input_vocab_size': vocab_size,\n",
    "         'target_vocab_size': vocab_size,\n",
    "         'maximum_position_encoding': MAX_SEQUENCE,\n",
    "         'end_token_idx': char2idx[end_index],\n",
    "         'rate': 0.1\n",
    "        }"
   ],
   "metadata": {
    "collapsed": false
   }
  },
  {
   "cell_type": "markdown",
   "source": [
    "# Padding & Forward-masking"
   ],
   "metadata": {
    "collapsed": false
   }
  },
  {
   "cell_type": "code",
   "execution_count": 11,
   "outputs": [],
   "source": [
    "def create_padding_mask(seq):\n",
    "    seq = tf.cast(tf.math.equal(seq, 0), tf.float32)\n",
    "\n",
    "    # add extra dimensions to add the padding\n",
    "    # to the attention logits.\n",
    "    return seq[:, tf.newaxis, tf.newaxis, :]  # (batch_size, 1, 1, seq_len)"
   ],
   "metadata": {
    "collapsed": false
   }
  },
  {
   "cell_type": "code",
   "execution_count": 12,
   "outputs": [],
   "source": [
    "def create_look_ahead_mask(size):\n",
    "    # 마스킹할 영역을 1, 아닌 영역을 0으로 처리\n",
    "    mask = 1 - tf.linalg.band_part(tf.ones((size, size)), -1, 0) #(입력 행렬, -1, 0)\n",
    "    return mask  # (seq_len, seq_len)"
   ],
   "metadata": {
    "collapsed": false
   }
  },
  {
   "cell_type": "code",
   "execution_count": 13,
   "outputs": [],
   "source": [
    "def create_masks(inp, tar):\n",
    "    # Encoder padding mask\n",
    "    enc_padding_mask = create_padding_mask(inp)\n",
    "\n",
    "    # Used in the 2nd attention block in the decoder.\n",
    "    # This padding mask is used to mask the encoder outputs.\n",
    "    dec_padding_mask = create_padding_mask(inp)\n",
    "\n",
    "    # Used in the 1st attention block in the decoder.\n",
    "    # It is used to pad and mask future tokens in the input received by\n",
    "    # the decoder.\n",
    "    look_ahead_mask = create_look_ahead_mask(tf.shape(tar)[1])\n",
    "    dec_target_padding_mask = create_padding_mask(tar)\n",
    "    combined_mask = tf.maximum(dec_target_padding_mask, look_ahead_mask)\n",
    "\n",
    "    return enc_padding_mask, combined_mask, dec_padding_mask"
   ],
   "metadata": {
    "collapsed": false
   }
  },
  {
   "cell_type": "code",
   "execution_count": 14,
   "outputs": [
    {
     "data": {
      "text/plain": "array([[11034,  4489,     0, ...,     0,     0,     0],\n       [ 3278, 11766, 16612, ...,     0,     0,     0],\n       [ 4584, 15569, 13314, ...,     0,     0,     0],\n       ...,\n       [ 1245,  4083, 19327, ...,     0,     0,     0],\n       [17844, 11697,  8357, ...,     0,     0,     0],\n       [ 9695, 12475,     0, ...,     0,     0,     0]], dtype=int32)"
     },
     "execution_count": 14,
     "metadata": {},
     "output_type": "execute_result"
    }
   ],
   "source": [
    "index_inputs"
   ],
   "metadata": {
    "collapsed": false
   }
  },
  {
   "cell_type": "code",
   "execution_count": 15,
   "outputs": [
    {
     "data": {
      "text/plain": "array([[    1, 10553,  2770, ...,     0,     0,     0],\n       [    1, 11813, 10407, ...,     0,     0,     0],\n       [    1, 10025, 12993, ...,     0,     0,     0],\n       ...,\n       [    1,  5504,     0, ...,     0,     0,     0],\n       [    1, 11580,  8964, ...,     0,     0,     0],\n       [    1, 17285,  2490, ...,     0,     0,     0]], dtype=int32)"
     },
     "execution_count": 15,
     "metadata": {},
     "output_type": "execute_result"
    }
   ],
   "source": [
    "index_outputs"
   ],
   "metadata": {
    "collapsed": false
   }
  },
  {
   "cell_type": "code",
   "execution_count": 16,
   "outputs": [
    {
     "name": "stderr",
     "output_type": "stream",
     "text": [
      "2024-08-03 19:47:53.263201: I external/local_xla/xla/stream_executor/cuda/cuda_executor.cc:887] could not open file to read NUMA node: /sys/bus/pci/devices/0000:01:00.0/numa_node\n",
      "Your kernel may have been built without NUMA support.\n",
      "2024-08-03 19:47:53.402048: I external/local_xla/xla/stream_executor/cuda/cuda_executor.cc:887] could not open file to read NUMA node: /sys/bus/pci/devices/0000:01:00.0/numa_node\n",
      "Your kernel may have been built without NUMA support.\n",
      "2024-08-03 19:47:53.402098: I external/local_xla/xla/stream_executor/cuda/cuda_executor.cc:887] could not open file to read NUMA node: /sys/bus/pci/devices/0000:01:00.0/numa_node\n",
      "Your kernel may have been built without NUMA support.\n",
      "2024-08-03 19:47:53.404898: I external/local_xla/xla/stream_executor/cuda/cuda_executor.cc:887] could not open file to read NUMA node: /sys/bus/pci/devices/0000:01:00.0/numa_node\n",
      "Your kernel may have been built without NUMA support.\n",
      "2024-08-03 19:47:53.404936: I external/local_xla/xla/stream_executor/cuda/cuda_executor.cc:887] could not open file to read NUMA node: /sys/bus/pci/devices/0000:01:00.0/numa_node\n",
      "Your kernel may have been built without NUMA support.\n",
      "2024-08-03 19:47:53.404952: I external/local_xla/xla/stream_executor/cuda/cuda_executor.cc:887] could not open file to read NUMA node: /sys/bus/pci/devices/0000:01:00.0/numa_node\n",
      "Your kernel may have been built without NUMA support.\n",
      "2024-08-03 19:47:53.663269: I external/local_xla/xla/stream_executor/cuda/cuda_executor.cc:887] could not open file to read NUMA node: /sys/bus/pci/devices/0000:01:00.0/numa_node\n",
      "Your kernel may have been built without NUMA support.\n",
      "2024-08-03 19:47:53.663336: I external/local_xla/xla/stream_executor/cuda/cuda_executor.cc:887] could not open file to read NUMA node: /sys/bus/pci/devices/0000:01:00.0/numa_node\n",
      "Your kernel may have been built without NUMA support.\n",
      "2024-08-03 19:47:53.663342: I tensorflow/core/common_runtime/gpu/gpu_device.cc:2022] Could not identify NUMA node of platform GPU id 0, defaulting to 0.  Your kernel may not have been built with NUMA support.\n",
      "2024-08-03 19:47:53.663365: I external/local_xla/xla/stream_executor/cuda/cuda_executor.cc:887] could not open file to read NUMA node: /sys/bus/pci/devices/0000:01:00.0/numa_node\n",
      "Your kernel may have been built without NUMA support.\n",
      "2024-08-03 19:47:53.663380: I tensorflow/core/common_runtime/gpu/gpu_device.cc:1929] Created device /job:localhost/replica:0/task:0/device:GPU:0 with 9585 MB memory:  -> device: 0, name: NVIDIA GeForce RTX 3080, pci bus id: 0000:01:00.0, compute capability: 8.6\n",
      "2024-08-03 19:47:54.111831: I external/local_tsl/tsl/platform/default/subprocess.cc:304] Start cannot spawn child process: No such file or directory\n"
     ]
    }
   ],
   "source": [
    "enc_padding_mask, look_ahead_mask, dec_padding_mask = create_masks(index_inputs, index_outputs)"
   ],
   "metadata": {
    "collapsed": false
   }
  },
  {
   "cell_type": "code",
   "execution_count": 17,
   "outputs": [
    {
     "data": {
      "text/plain": "TensorShape([11823, 1, 1, 25])"
     },
     "execution_count": 17,
     "metadata": {},
     "output_type": "execute_result"
    }
   ],
   "source": [
    "enc_padding_mask.shape"
   ],
   "metadata": {
    "collapsed": false
   }
  },
  {
   "cell_type": "code",
   "execution_count": 18,
   "outputs": [
    {
     "data": {
      "text/plain": "TensorShape([11823, 1, 25, 25])"
     },
     "execution_count": 18,
     "metadata": {},
     "output_type": "execute_result"
    }
   ],
   "source": [
    "look_ahead_mask.shape"
   ],
   "metadata": {
    "collapsed": false
   }
  },
  {
   "cell_type": "code",
   "execution_count": 19,
   "outputs": [
    {
     "data": {
      "text/plain": "TensorShape([11823, 1, 1, 25])"
     },
     "execution_count": 19,
     "metadata": {},
     "output_type": "execute_result"
    }
   ],
   "source": [
    "dec_padding_mask.shape"
   ],
   "metadata": {
    "collapsed": false
   }
  },
  {
   "cell_type": "markdown",
   "source": [
    "# Positional Encoding"
   ],
   "metadata": {
    "collapsed": false
   }
  },
  {
   "cell_type": "code",
   "execution_count": 20,
   "outputs": [],
   "source": [
    "def get_angles(pos, i, d_model):\n",
    "    angle_rates = 1 / np.power(10000, (2 * i//2) / np.float32(d_model))\n",
    "    return pos * angle_rates"
   ],
   "metadata": {
    "collapsed": false
   }
  },
  {
   "cell_type": "code",
   "execution_count": 21,
   "outputs": [],
   "source": [
    "def positional_encoding(position, d_model):\n",
    "    angle_rads = get_angles(np.arange(position)[:, np.newaxis],\n",
    "                          np.arange(d_model)[np.newaxis, :],\n",
    "                          d_model)\n",
    "\n",
    "    # apply sin to even indices in the array; 2i\n",
    "    angle_rads[:, 0::2] = np.sin(angle_rads[:, 0::2])\n",
    "\n",
    "    # apply cos to odd indices in the array; 2i+1\n",
    "    angle_rads[:, 1::2] = np.cos(angle_rads[:, 1::2])\n",
    "\n",
    "    # np.newaxis : 새로운 차원을 만드는 역할\n",
    "    pos_encoding = angle_rads[np.newaxis, ...]\n",
    "\n",
    "    return tf.cast(pos_encoding, dtype=tf.float32)"
   ],
   "metadata": {
    "collapsed": false
   }
  },
  {
   "cell_type": "code",
   "execution_count": 30,
   "outputs": [
    {
     "name": "stdout",
     "output_type": "stream",
     "text": [
      "(1, 50, 512)\n",
      "tf.Tensor(\n",
      "[[ 0.00000000e+00  1.00000000e+00  0.00000000e+00 ...  1.00000000e+00\n",
      "   0.00000000e+00  1.00000000e+00]\n",
      " [ 8.41470957e-01  5.55217505e-01  8.21856201e-01 ...  1.00000000e+00\n",
      "   1.03663289e-04  1.00000000e+00]\n",
      " [ 9.09297407e-01 -3.83467078e-01  9.36414719e-01 ...  1.00000000e+00\n",
      "   2.07326579e-04  1.00000000e+00]\n",
      " ...\n",
      " [ 1.23573124e-01 -5.72035491e-01  9.77189839e-01 ...  9.99987721e-01\n",
      "   4.87215538e-03  9.99988556e-01]\n",
      " [-7.68254638e-01 -9.99792695e-01  7.31235921e-01 ...  9.99987185e-01\n",
      "   4.97581763e-03  9.99988079e-01]\n",
      " [-9.53752637e-01 -5.38169324e-01 -1.44026920e-01 ...  9.99986649e-01\n",
      "   5.07947942e-03  9.99987543e-01]], shape=(50, 512), dtype=float32)\n"
     ]
    },
    {
     "data": {
      "text/plain": "<Figure size 640x480 with 2 Axes>",
      "image/png": "[encoded data removed]"
     },
     "metadata": {},
     "output_type": "display_data"
    }
   ],
   "source": [
    "pos_encoding = positional_encoding(50, 512)\n",
    "print(pos_encoding.shape)\n",
    "print(pos_encoding[0])\n",
    "\n",
    "plt.pcolormesh(pos_encoding[0], cmap='RdBu')\n",
    "plt.xlabel('Depth')\n",
    "plt.xlim((0, 512))\n",
    "plt.ylabel('Position')\n",
    "plt.colorbar()\n",
    "plt.show()"
   ],
   "metadata": {
    "collapsed": false
   }
  },
  {
   "cell_type": "code",
   "execution_count": 23,
   "outputs": [
    {
     "data": {
      "text/plain": "<tf.Tensor: shape=(1, 50, 512), dtype=float32, numpy=\narray([[[ 0.00000000e+00,  1.00000000e+00,  0.00000000e+00, ...,\n          1.00000000e+00,  0.00000000e+00,  1.00000000e+00],\n        [ 8.41470957e-01,  5.55217505e-01,  8.21856201e-01, ...,\n          1.00000000e+00,  1.03663289e-04,  1.00000000e+00],\n        [ 9.09297407e-01, -3.83467078e-01,  9.36414719e-01, ...,\n          1.00000000e+00,  2.07326579e-04,  1.00000000e+00],\n        ...,\n        [ 1.23573124e-01, -5.72035491e-01,  9.77189839e-01, ...,\n          9.99987721e-01,  4.87215538e-03,  9.99988556e-01],\n        [-7.68254638e-01, -9.99792695e-01,  7.31235921e-01, ...,\n          9.99987185e-01,  4.97581763e-03,  9.99988079e-01],\n        [-9.53752637e-01, -5.38169324e-01, -1.44026920e-01, ...,\n          9.99986649e-01,  5.07947942e-03,  9.99987543e-01]]],\n      dtype=float32)>"
     },
     "execution_count": 23,
     "metadata": {},
     "output_type": "execute_result"
    }
   ],
   "source": [
    "pos_encoding"
   ],
   "metadata": {
    "collapsed": false
   }
  },
  {
   "cell_type": "markdown",
   "source": [
    "# Attention"
   ],
   "metadata": {
    "collapsed": false
   }
  },
  {
   "cell_type": "code",
   "execution_count": 24,
   "outputs": [],
   "source": [
    "def scaled_dot_product_attention(q, k, v, mask):\n",
    "    \"\"\"Calculate the attention weights.\n",
    "    q, k, v must have matching leading dimensions.\n",
    "    k, v must have matching penultimate dimension, i.e.: seq_len_k = seq_len_v.\n",
    "    The mask has different shapes depending on its type(padding or look ahead)\n",
    "    but it must be broadcastable for addition.\n",
    "\n",
    "    Args:\n",
    "    q: query shape == (..., seq_len_q, depth)\n",
    "    k: key shape == (..., seq_len_k, depth)\n",
    "    v: value shape == (..., seq_len_v, depth_v)\n",
    "    mask: Float tensor with shape broadcastable\n",
    "          to (..., seq_len_q, seq_len_k). Defaults to None.\n",
    "\n",
    "    Returns:\n",
    "    output, attention_weights\n",
    "    \"\"\"\n",
    "\n",
    "    matmul_qk = tf.matmul(q, k, transpose_b=True)  # (..., seq_len_q, seq_len_k)\n",
    "\n",
    "    # scale matmul_qk\n",
    "    dk = tf.cast(tf.shape(k)[-1], tf.float32)\n",
    "    scaled_attention_logits = matmul_qk / tf.math.sqrt(dk)\n",
    "\n",
    "    # add the mask to the scaled tensor.\n",
    "    if mask is not None:\n",
    "        scaled_attention_logits += (mask * -1e9)\n",
    "\n",
    "    # softmax is normalized on the last axis (seq_len_k) so that the scores\n",
    "    # add up to 1.\n",
    "    attention_weights = tf.nn.softmax(scaled_attention_logits, axis=-1)  # (..., seq_len_q, seq_len_k)\n",
    "\n",
    "    output = tf.matmul(attention_weights, v)  # (..., seq_len_q, depth_v)\n",
    "\n",
    "    return output, attention_weights"
   ],
   "metadata": {
    "collapsed": false
   }
  },
  {
   "cell_type": "markdown",
   "source": [
    "# Multi-head Attention"
   ],
   "metadata": {
    "collapsed": false
   }
  },
  {
   "cell_type": "code",
   "execution_count": 31,
   "outputs": [],
   "source": [
    "class MultiHeadAttention(tf.keras.layers.Layer):\n",
    "    def __init__(self, **kargs):\n",
    "        super(MultiHeadAttention, self).__init__()\n",
    "        self.num_heads = kargs['num_heads']\n",
    "        self.d_model = kargs['d_model']\n",
    "\n",
    "        assert self.d_model % self.num_heads == 0\n",
    "\n",
    "        self.depth = self.d_model // self.num_heads\n",
    "\n",
    "        self.wq = tf.keras.layers.Dense(kargs['d_model'])\n",
    "        self.wk = tf.keras.layers.Dense(kargs['d_model'])\n",
    "        self.wv = tf.keras.layers.Dense(kargs['d_model'])\n",
    "\n",
    "        self.dense = tf.keras.layers.Dense(kargs['d_model'])\n",
    "\n",
    "    def split_heads(self, x, batch_size):\n",
    "        \"\"\"Split the last dimension into (num_heads, depth).\n",
    "        Transpose the result such that the shape is (batch_size, num_heads, seq_len, depth)\n",
    "        \"\"\"\n",
    "        x = tf.reshape(x, (batch_size, -1, self.num_heads, self.depth))\n",
    "        return tf.transpose(x, perm=[0, 2, 1, 3])\n",
    "\n",
    "    def call(self, v, k, q, mask):\n",
    "        batch_size = tf.shape(q)[0]\n",
    "\n",
    "        q = self.wq(q)  # (batch_size, seq_len, d_model)\n",
    "        k = self.wk(k)  # (batch_size, seq_len, d_model)\n",
    "        v = self.wv(v)  # (batch_size, seq_len, d_model)\n",
    "\n",
    "        q = self.split_heads(q, batch_size)  # (batch_size, num_heads, seq_len_q, depth)\n",
    "        k = self.split_heads(k, batch_size)  # (batch_size, num_heads, seq_len_k, depth)\n",
    "        v = self.split_heads(v, batch_size)  # (batch_size, num_heads, seq_len_v, depth)\n",
    "\n",
    "        # scaled_attention.shape == (batch_size, num_heads, seq_len_q, depth)\n",
    "        # attention_weights.shape == (batch_size, num_heads, seq_len_q, seq_len_k)\n",
    "        scaled_attention, attention_weights = scaled_dot_product_attention(q, k, v, mask)\n",
    "\n",
    "        scaled_attention = tf.transpose(scaled_attention, perm=[0, 2, 1, 3])  # (batch_size, seq_len_q, num_heads, depth)\n",
    "\n",
    "        concat_attention = tf.reshape(scaled_attention,\n",
    "                                      (batch_size, -1, self.d_model))  # (batch_size, seq_len_q, d_model)\n",
    "\n",
    "        output = self.dense(concat_attention)  # (batch_size, seq_len_q, d_model)\n",
    "\n",
    "        return output, attention_weights"
   ],
   "metadata": {
    "collapsed": false
   }
  },
  {
   "cell_type": "markdown",
   "source": [
    "# Position-wise Feedforward Network"
   ],
   "metadata": {
    "collapsed": false
   }
  },
  {
   "cell_type": "code",
   "execution_count": 26,
   "outputs": [],
   "source": [
    "def point_wise_feed_forward_network(**kargs):\n",
    "    return tf.keras.Sequential([\n",
    "      tf.keras.layers.Dense(kargs['dff'], activation='relu'),  # (batch_size, seq_len, dff)\n",
    "      tf.keras.layers.Dense(kargs['d_model'])  # (batch_size, seq_len, d_model)\n",
    "    ])"
   ],
   "metadata": {
    "collapsed": false
   }
  },
  {
   "cell_type": "markdown",
   "source": [
    "# Encoder Layer"
   ],
   "metadata": {
    "collapsed": false
   }
  },
  {
   "cell_type": "code",
   "execution_count": 32,
   "outputs": [],
   "source": [
    "class EncoderLayer(tf.keras.layers.Layer):\n",
    "    def __init__(self, **kargs):\n",
    "        super(EncoderLayer, self).__init__()\n",
    "\n",
    "        self.mha = MultiHeadAttention(**kargs)\n",
    "        self.ffn = point_wise_feed_forward_network(**kargs)\n",
    "\n",
    "        self.layernorm1 = tf.keras.layers.LayerNormalization(epsilon=1e-6)\n",
    "        self.layernorm2 = tf.keras.layers.LayerNormalization(epsilon=1e-6)\n",
    "\n",
    "        self.dropout1 = tf.keras.layers.Dropout(kargs['rate'])\n",
    "        self.dropout2 = tf.keras.layers.Dropout(kargs['rate'])\n",
    "\n",
    "    def call(self, x, mask):\n",
    "        attn_output, _ = self.mha(x, x, x, mask)  # (batch_size, input_seq_len, d_model)\n",
    "        attn_output = self.dropout1(attn_output)\n",
    "        out1 = self.layernorm1(x + attn_output)  # (batch_size, input_seq_len, d_model)\n",
    "\n",
    "        ffn_output = self.ffn(out1)  # (batch_size, input_seq_len, d_model)\n",
    "        ffn_output = self.dropout2(ffn_output)\n",
    "        out2 = self.layernorm2(out1 + ffn_output)  # (batch_size, input_seq_len, d_model)\n",
    "\n",
    "        return out2"
   ],
   "metadata": {
    "collapsed": false
   }
  },
  {
   "cell_type": "markdown",
   "source": [
    "# Decoder Layer"
   ],
   "metadata": {
    "collapsed": false
   }
  },
  {
   "cell_type": "code",
   "execution_count": 34,
   "outputs": [],
   "source": [
    "class DecoderLayer(tf.keras.layers.Layer):\n",
    "    def __init__(self, **kargs):\n",
    "        super(DecoderLayer, self).__init__()\n",
    "\n",
    "        self.mha1 = MultiHeadAttention(**kargs)\n",
    "        self.mha2 = MultiHeadAttention(**kargs)\n",
    "\n",
    "        self.ffn = point_wise_feed_forward_network(**kargs)\n",
    "\n",
    "        self.layernorm1 = tf.keras.layers.LayerNormalization(epsilon=1e-6)\n",
    "        self.layernorm2 = tf.keras.layers.LayerNormalization(epsilon=1e-6)\n",
    "        self.layernorm3 = tf.keras.layers.LayerNormalization(epsilon=1e-6)\n",
    "\n",
    "        self.dropout1 = tf.keras.layers.Dropout(kargs['rate'])\n",
    "        self.dropout2 = tf.keras.layers.Dropout(kargs['rate'])\n",
    "        self.dropout3 = tf.keras.layers.Dropout(kargs['rate'])\n",
    "\n",
    "    def call(self, x, enc_output, look_ahead_mask, padding_mask):\n",
    "        # enc_output.shape == (batch_size, input_seq_len, d_model)\n",
    "        attn1, attn_weights_block1 = self.mha1(x, x, x, look_ahead_mask)  # (batch_size, target_seq_len, d_model)\n",
    "        attn1 = self.dropout1(attn1)\n",
    "        out1 = self.layernorm1(attn1 + x)\n",
    "\n",
    "        attn2, attn_weights_block2 = self.mha2(enc_output, enc_output, out1, padding_mask)  # (batch_size, target_seq_len, d_model)\n",
    "        attn2 = self.dropout2(attn2)\n",
    "        out2 = self.layernorm2(attn2 + out1)  # (batch_size, target_seq_len, d_model)\n",
    "\n",
    "        ffn_output = self.ffn(out2)  # (batch_size, target_seq_len, d_model)\n",
    "        ffn_output = self.dropout3(ffn_output)\n",
    "        out3 = self.layernorm3(ffn_output + out2)  # (batch_size, target_seq_len, d_model)\n",
    "\n",
    "        return out3, attn_weights_block1, attn_weights_block2"
   ],
   "metadata": {
    "collapsed": false
   }
  },
  {
   "cell_type": "markdown",
   "source": [
    "# Encoder"
   ],
   "metadata": {
    "collapsed": false
   }
  },
  {
   "cell_type": "code",
   "execution_count": 36,
   "outputs": [],
   "source": [
    "class Encoder(tf.keras.layers.Layer):\n",
    "    def __init__(self, **kargs):\n",
    "        super(Encoder, self).__init__()\n",
    "\n",
    "        self.d_model = kargs['d_model']\n",
    "        self.num_layers = kargs['num_layers']\n",
    "\n",
    "        # 총 단어의 수 : kargs['input_vocab_size']\n",
    "        # 임베딩 후 출력되는 크기 : self.d_model = 512\n",
    "        self.embedding = tf.keras.layers.Embedding(kargs['input_vocab_size'], self.d_model)\n",
    "        self.pos_encoding = positional_encoding(kargs['maximum_position_encoding'], self.d_model)\n",
    "\n",
    "        self.enc_layers = [EncoderLayer(**kargs) for _ in range(self.num_layers)]\n",
    "\n",
    "        self.dropout = tf.keras.layers.Dropout(kargs['rate'])\n",
    "\n",
    "    def call(self, x, mask):\n",
    "\n",
    "        seq_len = tf.shape(x)[1]\n",
    "\n",
    "        # adding embedding and position encoding.\n",
    "        x = self.embedding(x)  # (batch_size, input_seq_len, d_model)\n",
    "\n",
    "        # 차원 수의 제곱근만큼에 대한 가중치를 곱\n",
    "        x *= tf.math.sqrt(tf.cast(self.d_model, tf.float32))\n",
    "        x += self.pos_encoding[:, :seq_len, :]\n",
    "\n",
    "        x = self.dropout(x)\n",
    "\n",
    "        for i in range(self.num_layers):\n",
    "            x = self.enc_layers[i](x, mask)\n",
    "\n",
    "        return x  # (batch_size, input_seq_len, d_model)"
   ],
   "metadata": {
    "collapsed": false
   }
  },
  {
   "cell_type": "markdown",
   "source": [
    "# Decoder"
   ],
   "metadata": {
    "collapsed": false
   }
  },
  {
   "cell_type": "code",
   "execution_count": 37,
   "outputs": [],
   "source": [
    "class Decoder(tf.keras.layers.Layer):\n",
    "    def __init__(self, **kargs):\n",
    "        super(Decoder, self).__init__()\n",
    "\n",
    "        self.d_model = kargs['d_model']\n",
    "        self.num_layers = kargs['num_layers']\n",
    "\n",
    "        self.embedding = tf.keras.layers.Embedding(kargs['target_vocab_size'], self.d_model)\n",
    "        self.pos_encoding = positional_encoding(kargs['maximum_position_encoding'], self.d_model)\n",
    "\n",
    "        self.dec_layers = [DecoderLayer(**kargs) for _ in range(self.num_layers)]\n",
    "        self.dropout = tf.keras.layers.Dropout(kargs['rate'])\n",
    "\n",
    "    def call(self, x, enc_output, look_ahead_mask, padding_mask):\n",
    "        seq_len = tf.shape(x)[1]\n",
    "        attention_weights = {}\n",
    "\n",
    "        x = self.embedding(x)  # (batch_size, target_seq_len, d_model)\n",
    "        x *= tf.math.sqrt(tf.cast(self.d_model, tf.float32))\n",
    "        x += self.pos_encoding[:, :seq_len, :]\n",
    "\n",
    "        x = self.dropout(x)\n",
    "\n",
    "        for i in range(self.num_layers):\n",
    "            x, block1, block2 = self.dec_layers[i](x, enc_output, look_ahead_mask, padding_mask)\n",
    "\n",
    "            attention_weights['decoder_layer{}_block1'.format(i+1)] = block1\n",
    "            attention_weights['decoder_layer{}_block2'.format(i+1)] = block2\n",
    "\n",
    "        # x.shape == (batch_size, target_seq_len, d_model)\n",
    "        return x, attention_weights"
   ],
   "metadata": {
    "collapsed": false
   }
  },
  {
   "cell_type": "markdown",
   "source": [
    "# Transformer Model"
   ],
   "metadata": {
    "collapsed": false
   }
  },
  {
   "cell_type": "code",
   "execution_count": 38,
   "outputs": [],
   "source": [
    "class Transformer(tf.keras.Model):\n",
    "    def __init__(self, **kargs):\n",
    "        super(Transformer, self).__init__(name=kargs['model_name'])\n",
    "        self.end_token_idx = kargs['end_token_idx']\n",
    "\n",
    "        self.encoder = Encoder(**kargs)\n",
    "        self.decoder = Decoder(**kargs)\n",
    "\n",
    "        self.final_layer = tf.keras.layers.Dense(kargs['target_vocab_size'])\n",
    "\n",
    "    def call(self, x):\n",
    "        inp, tar = x\n",
    "\n",
    "        enc_padding_mask, look_ahead_mask, dec_padding_mask = create_masks(inp, tar)\n",
    "        enc_output = self.encoder(inp, enc_padding_mask)  # (batch_size, inp_seq_len, d_model)\n",
    "\n",
    "        # dec_output.shape == (batch_size, tar_seq_len, d_model)\n",
    "        dec_output, _ = self.decoder(tar, enc_output, look_ahead_mask, dec_padding_mask)\n",
    "\n",
    "        final_output = self.final_layer(dec_output)  # (batch_size, tar_seq_len, target_vocab_size)\n",
    "\n",
    "        return final_output\n",
    "\n",
    "    def inference(self, x):\n",
    "        inp = x\n",
    "        tar = tf.expand_dims([STD_INDEX], 0)\n",
    "\n",
    "        enc_padding_mask, look_ahead_mask, dec_padding_mask = create_masks(inp, tar)\n",
    "        enc_output = self.encoder(inp, enc_padding_mask)\n",
    "\n",
    "        predict_tokens = list()\n",
    "        for t in range(0, MAX_SEQUENCE):\n",
    "            dec_output, _ = self.decoder(tar, enc_output, look_ahead_mask, dec_padding_mask)\n",
    "            final_output = self.final_layer(dec_output)\n",
    "\n",
    "            # tf.argmax : 가장 큰 값의 index를 return\n",
    "            # -1은 마지막 축 ex. 2차원이면 axis=1 (행을 의미)\n",
    "            outputs = tf.argmax(final_output, -1).numpy()\n",
    "            pred_token = outputs[0][-1]\n",
    "            if pred_token == self.end_token_idx:\n",
    "                break\n",
    "            predict_tokens.append(pred_token)\n",
    "            tar = tf.expand_dims([STD_INDEX] + predict_tokens, 0)\n",
    "            _, look_ahead_mask, dec_padding_mask = create_masks(inp, tar)\n",
    "        return predict_tokens"
   ],
   "metadata": {
    "collapsed": false
   }
  },
  {
   "cell_type": "markdown",
   "source": [
    "# Define Model Loss"
   ],
   "metadata": {
    "collapsed": false
   }
  },
  {
   "cell_type": "code",
   "execution_count": 39,
   "outputs": [],
   "source": [
    "loss_object = tf.keras.losses.SparseCategoricalCrossentropy(from_logits=True, reduction='none')\n",
    "train_accuracy = tf.keras.metrics.SparseCategoricalAccuracy(name='accuracy')\n",
    "\n",
    "def loss(real, pred):\n",
    "    mask = tf.math.logical_not(tf.math.equal(real, 0))\n",
    "    loss_ = loss_object(real, pred)\n",
    "\n",
    "    mask = tf.cast(mask, dtype=loss_.dtype)\n",
    "    loss_ *= mask\n",
    "\n",
    "    return tf.reduce_mean(loss_)\n",
    "\n",
    "def accuracy(real, pred):\n",
    "    mask = tf.math.logical_not(tf.math.equal(real, 0))\n",
    "    mask = tf.expand_dims(tf.cast(mask, dtype=pred.dtype), axis=-1)\n",
    "    pred *= mask\n",
    "    acc = train_accuracy(real, pred)\n",
    "\n",
    "    return tf.reduce_mean(acc)"
   ],
   "metadata": {
    "collapsed": false
   }
  },
  {
   "cell_type": "code",
   "execution_count": 40,
   "outputs": [],
   "source": [
    "model = Transformer(**kargs)\n",
    "model.compile(optimizer=tf.keras.optimizers.Adam(1e-4), loss=loss, metrics=[accuracy])"
   ],
   "metadata": {
    "collapsed": false
   }
  },
  {
   "cell_type": "markdown",
   "source": [
    "# Define callback"
   ],
   "metadata": {
    "collapsed": false
   }
  },
  {
   "cell_type": "code",
   "execution_count": 42,
   "outputs": [
    {
     "name": "stdout",
     "output_type": "stream",
     "text": [
      "./data_out/transformer -- Folder already exists \n",
      "\n"
     ]
    }
   ],
   "source": [
    "# overfitting을 막기 위한 ealrystop 추가\n",
    "earlystop_callback = EarlyStopping(monitor='val_accuracy', min_delta=0.0001, patience=10)\n",
    "# min_delta: the threshold that triggers the termination (acc should at least improve 0.0001)\n",
    "# patience: no improvment epochs (patience = 1, 1번 이상 상승이 없으면 종료)\n",
    "\n",
    "checkpoint_path = DATA_OUT_PATH + model_name + '/checkpoints.weights.h5'\n",
    "checkpoint_dir = os.path.dirname(checkpoint_path)\n",
    "\n",
    "# Create path if exists\n",
    "if os.path.exists(checkpoint_dir):\n",
    "    print(\"{} -- Folder already exists \\n\".format(checkpoint_dir))\n",
    "else:\n",
    "    os.makedirs(checkpoint_dir, exist_ok=True)\n",
    "    print(\"{} -- Folder create complete \\n\".format(checkpoint_dir))\n",
    "\n",
    "\n",
    "cp_callback = ModelCheckpoint(\n",
    "    checkpoint_path, monitor='val_accuracy', verbose=1, save_best_only=True, save_weights_only=True)"
   ],
   "metadata": {
    "collapsed": false
   }
  },
  {
   "cell_type": "code",
   "execution_count": 51,
   "outputs": [
    {
     "name": "stdout",
     "output_type": "stream",
     "text": [
      "Epoch 1/30\n",
      "5320/5320 [==============================] - ETA: 0s - loss: 0.3899 - accuracy: 0.8886\n",
      "Epoch 1: val_accuracy improved from 0.88809 to 0.88914, saving model to ./data_out/transformer/checkpoints.weights.h5\n",
      "5320/5320 [==============================] - 133s 25ms/step - loss: 0.3899 - accuracy: 0.8886 - val_loss: 1.9744 - val_accuracy: 0.8891\n",
      "Epoch 2/30\n",
      "5319/5320 [============================>.] - ETA: 0s - loss: 0.3874 - accuracy: 0.8897\n",
      "Epoch 2: val_accuracy improved from 0.88914 to 0.89015, saving model to ./data_out/transformer/checkpoints.weights.h5\n",
      "5320/5320 [==============================] - 138s 26ms/step - loss: 0.3874 - accuracy: 0.8897 - val_loss: 1.8883 - val_accuracy: 0.8902\n",
      "Epoch 3/30\n",
      "5319/5320 [============================>.] - ETA: 0s - loss: 0.3794 - accuracy: 0.8907\n",
      "Epoch 3: val_accuracy improved from 0.89015 to 0.89115, saving model to ./data_out/transformer/checkpoints.weights.h5\n",
      "5320/5320 [==============================] - 133s 25ms/step - loss: 0.3794 - accuracy: 0.8907 - val_loss: 1.9293 - val_accuracy: 0.8911\n",
      "Epoch 4/30\n",
      "5319/5320 [============================>.] - ETA: 0s - loss: 0.3738 - accuracy: 0.8916\n",
      "Epoch 4: val_accuracy improved from 0.89115 to 0.89211, saving model to ./data_out/transformer/checkpoints.weights.h5\n",
      "5320/5320 [==============================] - 135s 25ms/step - loss: 0.3738 - accuracy: 0.8916 - val_loss: 1.9494 - val_accuracy: 0.8921\n",
      "Epoch 5/30\n",
      "5320/5320 [==============================] - ETA: 0s - loss: 0.3674 - accuracy: 0.8926\n",
      "Epoch 5: val_accuracy improved from 0.89211 to 0.89304, saving model to ./data_out/transformer/checkpoints.weights.h5\n",
      "5320/5320 [==============================] - 136s 25ms/step - loss: 0.3674 - accuracy: 0.8926 - val_loss: 1.9568 - val_accuracy: 0.8930\n",
      "Epoch 6/30\n",
      "5318/5320 [============================>.] - ETA: 0s - loss: 0.3629 - accuracy: 0.8935\n",
      "Epoch 6: val_accuracy improved from 0.89304 to 0.89393, saving model to ./data_out/transformer/checkpoints.weights.h5\n",
      "5320/5320 [==============================] - 135s 25ms/step - loss: 0.3628 - accuracy: 0.8935 - val_loss: 1.9793 - val_accuracy: 0.8939\n",
      "Epoch 7/30\n",
      "5320/5320 [==============================] - ETA: 0s - loss: 0.3561 - accuracy: 0.8944\n",
      "Epoch 7: val_accuracy improved from 0.89393 to 0.89480, saving model to ./data_out/transformer/checkpoints.weights.h5\n",
      "5320/5320 [==============================] - 139s 26ms/step - loss: 0.3561 - accuracy: 0.8944 - val_loss: 1.9702 - val_accuracy: 0.8948\n",
      "Epoch 8/30\n",
      "5318/5320 [============================>.] - ETA: 0s - loss: 0.3520 - accuracy: 0.8952\n",
      "Epoch 8: val_accuracy improved from 0.89480 to 0.89565, saving model to ./data_out/transformer/checkpoints.weights.h5\n",
      "5320/5320 [==============================] - 138s 26ms/step - loss: 0.3520 - accuracy: 0.8952 - val_loss: 1.9973 - val_accuracy: 0.8957\n",
      "Epoch 9/30\n",
      "5319/5320 [============================>.] - ETA: 0s - loss: 0.3460 - accuracy: 0.8961\n",
      "Epoch 9: val_accuracy improved from 0.89565 to 0.89648, saving model to ./data_out/transformer/checkpoints.weights.h5\n",
      "5320/5320 [==============================] - 135s 25ms/step - loss: 0.3460 - accuracy: 0.8961 - val_loss: 1.9543 - val_accuracy: 0.8965\n",
      "Epoch 10/30\n",
      "5320/5320 [==============================] - ETA: 0s - loss: 0.3409 - accuracy: 0.8969\n",
      "Epoch 10: val_accuracy improved from 0.89648 to 0.89728, saving model to ./data_out/transformer/checkpoints.weights.h5\n",
      "5320/5320 [==============================] - 138s 26ms/step - loss: 0.3409 - accuracy: 0.8969 - val_loss: 1.9851 - val_accuracy: 0.8973\n",
      "Epoch 11/30\n",
      "5320/5320 [==============================] - ETA: 0s - loss: 0.3360 - accuracy: 0.8977\n",
      "Epoch 11: val_accuracy improved from 0.89728 to 0.89805, saving model to ./data_out/transformer/checkpoints.weights.h5\n",
      "5320/5320 [==============================] - 136s 26ms/step - loss: 0.3360 - accuracy: 0.8977 - val_loss: 1.9679 - val_accuracy: 0.8980\n",
      "Epoch 12/30\n",
      "5319/5320 [============================>.] - ETA: 0s - loss: 0.3308 - accuracy: 0.8985\n",
      "Epoch 12: val_accuracy improved from 0.89805 to 0.89880, saving model to ./data_out/transformer/checkpoints.weights.h5\n",
      "5320/5320 [==============================] - 141s 26ms/step - loss: 0.3308 - accuracy: 0.8985 - val_loss: 1.9719 - val_accuracy: 0.8988\n",
      "Epoch 13/30\n",
      "5318/5320 [============================>.] - ETA: 0s - loss: 0.3273 - accuracy: 0.8992\n",
      "Epoch 13: val_accuracy improved from 0.89880 to 0.89953, saving model to ./data_out/transformer/checkpoints.weights.h5\n",
      "5320/5320 [==============================] - 137s 26ms/step - loss: 0.3273 - accuracy: 0.8992 - val_loss: 1.9699 - val_accuracy: 0.8995\n",
      "Epoch 14/30\n",
      "5320/5320 [==============================] - ETA: 0s - loss: 0.3196 - accuracy: 0.8999\n",
      "Epoch 14: val_accuracy improved from 0.89953 to 0.90026, saving model to ./data_out/transformer/checkpoints.weights.h5\n",
      "5320/5320 [==============================] - 137s 26ms/step - loss: 0.3196 - accuracy: 0.8999 - val_loss: 1.9761 - val_accuracy: 0.9003\n",
      "Epoch 15/30\n",
      "5320/5320 [==============================] - ETA: 0s - loss: 0.3191 - accuracy: 0.9006\n",
      "Epoch 15: val_accuracy improved from 0.90026 to 0.90094, saving model to ./data_out/transformer/checkpoints.weights.h5\n",
      "5320/5320 [==============================] - 137s 26ms/step - loss: 0.3191 - accuracy: 0.9006 - val_loss: 1.9652 - val_accuracy: 0.9009\n",
      "Epoch 16/30\n",
      "5320/5320 [==============================] - ETA: 0s - loss: 0.3125 - accuracy: 0.9013\n",
      "Epoch 16: val_accuracy improved from 0.90094 to 0.90162, saving model to ./data_out/transformer/checkpoints.weights.h5\n",
      "5320/5320 [==============================] - 133s 25ms/step - loss: 0.3125 - accuracy: 0.9013 - val_loss: 1.9495 - val_accuracy: 0.9016\n",
      "Epoch 17/30\n",
      "5320/5320 [==============================] - ETA: 0s - loss: 0.3075 - accuracy: 0.9020\n",
      "Epoch 17: val_accuracy improved from 0.90162 to 0.90228, saving model to ./data_out/transformer/checkpoints.weights.h5\n",
      "5320/5320 [==============================] - 139s 26ms/step - loss: 0.3075 - accuracy: 0.9020 - val_loss: 1.9675 - val_accuracy: 0.9023\n",
      "Epoch 18/30\n",
      "5320/5320 [==============================] - ETA: 0s - loss: 0.3048 - accuracy: 0.9026\n",
      "Epoch 18: val_accuracy improved from 0.90228 to 0.90293, saving model to ./data_out/transformer/checkpoints.weights.h5\n",
      "5320/5320 [==============================] - 143s 27ms/step - loss: 0.3048 - accuracy: 0.9026 - val_loss: 1.9431 - val_accuracy: 0.9029\n",
      "Epoch 19/30\n",
      "5320/5320 [==============================] - ETA: 0s - loss: 0.3009 - accuracy: 0.9033\n",
      "Epoch 19: val_accuracy improved from 0.90293 to 0.90356, saving model to ./data_out/transformer/checkpoints.weights.h5\n",
      "5320/5320 [==============================] - 139s 26ms/step - loss: 0.3009 - accuracy: 0.9033 - val_loss: 1.9481 - val_accuracy: 0.9036\n",
      "Epoch 20/30\n",
      "5319/5320 [============================>.] - ETA: 0s - loss: 0.2960 - accuracy: 0.9039\n",
      "Epoch 20: val_accuracy improved from 0.90356 to 0.90418, saving model to ./data_out/transformer/checkpoints.weights.h5\n",
      "5320/5320 [==============================] - 139s 26ms/step - loss: 0.2960 - accuracy: 0.9039 - val_loss: 1.9673 - val_accuracy: 0.9042\n",
      "Epoch 21/30\n",
      "5318/5320 [============================>.] - ETA: 0s - loss: 0.2921 - accuracy: 0.9045\n",
      "Epoch 21: val_accuracy improved from 0.90418 to 0.90477, saving model to ./data_out/transformer/checkpoints.weights.h5\n",
      "5320/5320 [==============================] - 138s 26ms/step - loss: 0.2921 - accuracy: 0.9045 - val_loss: 1.9688 - val_accuracy: 0.9048\n",
      "Epoch 22/30\n",
      "5319/5320 [============================>.] - ETA: 0s - loss: 0.2894 - accuracy: 0.9051\n",
      "Epoch 22: val_accuracy improved from 0.90477 to 0.90536, saving model to ./data_out/transformer/checkpoints.weights.h5\n",
      "5320/5320 [==============================] - 136s 26ms/step - loss: 0.2894 - accuracy: 0.9051 - val_loss: 1.9821 - val_accuracy: 0.9054\n",
      "Epoch 23/30\n",
      "5320/5320 [==============================] - ETA: 0s - loss: 0.2854 - accuracy: 0.9056\n",
      "Epoch 23: val_accuracy improved from 0.90536 to 0.90593, saving model to ./data_out/transformer/checkpoints.weights.h5\n",
      "5320/5320 [==============================] - 139s 26ms/step - loss: 0.2854 - accuracy: 0.9056 - val_loss: 1.9598 - val_accuracy: 0.9059\n",
      "Epoch 24/30\n",
      "5318/5320 [============================>.] - ETA: 0s - loss: 0.2812 - accuracy: 0.9062\n",
      "Epoch 24: val_accuracy improved from 0.90593 to 0.90649, saving model to ./data_out/transformer/checkpoints.weights.h5\n",
      "5320/5320 [==============================] - 138s 26ms/step - loss: 0.2812 - accuracy: 0.9062 - val_loss: 1.9877 - val_accuracy: 0.9065\n",
      "Epoch 25/30\n",
      "5319/5320 [============================>.] - ETA: 0s - loss: 0.2793 - accuracy: 0.9068\n",
      "Epoch 25: val_accuracy improved from 0.90649 to 0.90703, saving model to ./data_out/transformer/checkpoints.weights.h5\n",
      "5320/5320 [==============================] - 144s 27ms/step - loss: 0.2793 - accuracy: 0.9068 - val_loss: 1.9789 - val_accuracy: 0.9070\n",
      "Epoch 26/30\n",
      "5318/5320 [============================>.] - ETA: 0s - loss: 0.2751 - accuracy: 0.9073\n",
      "Epoch 26: val_accuracy improved from 0.90703 to 0.90757, saving model to ./data_out/transformer/checkpoints.weights.h5\n",
      "5320/5320 [==============================] - 144s 27ms/step - loss: 0.2751 - accuracy: 0.9073 - val_loss: 1.9954 - val_accuracy: 0.9076\n",
      "Epoch 27/30\n",
      "5318/5320 [============================>.] - ETA: 0s - loss: 0.2700 - accuracy: 0.9079\n",
      "Epoch 27: val_accuracy improved from 0.90757 to 0.90809, saving model to ./data_out/transformer/checkpoints.weights.h5\n",
      "5320/5320 [==============================] - 140s 26ms/step - loss: 0.2700 - accuracy: 0.9079 - val_loss: 1.9892 - val_accuracy: 0.9081\n",
      "Epoch 28/30\n",
      "5320/5320 [==============================] - ETA: 0s - loss: 0.2675 - accuracy: 0.9084\n",
      "Epoch 28: val_accuracy improved from 0.90809 to 0.90861, saving model to ./data_out/transformer/checkpoints.weights.h5\n",
      "5320/5320 [==============================] - 140s 26ms/step - loss: 0.2675 - accuracy: 0.9084 - val_loss: 2.0046 - val_accuracy: 0.9086\n",
      "Epoch 29/30\n",
      "5319/5320 [============================>.] - ETA: 0s - loss: 0.2632 - accuracy: 0.9089\n",
      "Epoch 29: val_accuracy improved from 0.90861 to 0.90911, saving model to ./data_out/transformer/checkpoints.weights.h5\n",
      "5320/5320 [==============================] - 138s 26ms/step - loss: 0.2632 - accuracy: 0.9089 - val_loss: 2.0019 - val_accuracy: 0.9091\n",
      "Epoch 30/30\n",
      "5318/5320 [============================>.] - ETA: 0s - loss: 0.2619 - accuracy: 0.9094\n",
      "Epoch 30: val_accuracy improved from 0.90911 to 0.90960, saving model to ./data_out/transformer/checkpoints.weights.h5\n",
      "5320/5320 [==============================] - 139s 26ms/step - loss: 0.2619 - accuracy: 0.9094 - val_loss: 1.9906 - val_accuracy: 0.9096\n"
     ]
    }
   ],
   "source": [
    "history = model.fit([index_inputs, index_outputs], index_targets,\n",
    "                    batch_size=BATCH_SIZE, epochs=EPOCHS,\n",
    "                    validation_split=VALID_SPLIT, callbacks=[earlystop_callback, cp_callback])"
   ],
   "metadata": {
    "collapsed": false
   }
  },
  {
   "cell_type": "markdown",
   "source": [
    "# Result"
   ],
   "metadata": {
    "collapsed": false
   }
  },
  {
   "cell_type": "code",
   "execution_count": 52,
   "outputs": [
    {
     "data": {
      "text/plain": "<Figure size 640x480 with 1 Axes>",
      "image/png": "[encoded data removed]"
     },
     "metadata": {},
     "output_type": "display_data"
    }
   ],
   "source": [
    "plot_graphs(history, 'accuracy')"
   ],
   "metadata": {
    "collapsed": false
   }
  },
  {
   "cell_type": "code",
   "execution_count": 53,
   "outputs": [
    {
     "data": {
      "text/plain": "<Figure size 640x480 with 1 Axes>",
      "image/png": "[encoded data removed]"
     },
     "metadata": {},
     "output_type": "display_data"
    }
   ],
   "source": [
    "plot_graphs(history, 'loss')"
   ],
   "metadata": {
    "collapsed": false
   }
  },
  {
   "cell_type": "markdown",
   "source": [
    "# Load best model"
   ],
   "metadata": {
    "collapsed": false
   }
  },
  {
   "cell_type": "code",
   "execution_count": 60,
   "outputs": [],
   "source": [
    "DATA_OUT_PATH = './data_out/'\n",
    "SAVE_FILE_NM = 'checkpoints.weights.h5'\n",
    "\n",
    "model.load_weights(os.path.join(DATA_OUT_PATH, model_name, SAVE_FILE_NM))"
   ],
   "metadata": {
    "collapsed": false
   }
  },
  {
   "cell_type": "code",
   "execution_count": 61,
   "outputs": [],
   "source": [
    "char2idx = prepro_configs['char2idx']\n",
    "idx2char = prepro_configs['idx2char']"
   ],
   "metadata": {
    "collapsed": false
   }
  },
  {
   "cell_type": "code",
   "execution_count": 62,
   "outputs": [
    {
     "name": "stdout",
     "output_type": "stream",
     "text": [
      "살짝 감정을 흘려보세요\n"
     ]
    }
   ],
   "source": [
    "text = \"남자친구 승진 선물로 뭐가 좋을까?\"\n",
    "test_index_inputs, _ = enc_processing([text], char2idx)\n",
    "outputs = model.inference(test_index_inputs)\n",
    "\n",
    "print(' '.join([idx2char[str(o)] for o in outputs]))"
   ],
   "metadata": {
    "collapsed": false
   }
  }
 ],
 "metadata": {
  "kernelspec": {
   "display_name": "Python 3",
   "language": "python",
   "name": "python3"
  },
  "language_info": {
   "codemirror_mode": {
    "name": "ipython",
    "version": 2
   },
   "file_extension": ".py",
   "mimetype": "text/x-python",
   "name": "python",
   "nbconvert_exporter": "python",
   "pygments_lexer": "ipython2",
   "version": "2.7.6"
  }
 },
 "nbformat": 4,
 "nbformat_minor": 0
}
