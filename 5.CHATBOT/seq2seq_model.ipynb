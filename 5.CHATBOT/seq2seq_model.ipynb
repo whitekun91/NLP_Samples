{
 "cells": [
  {
   "cell_type": "code",
   "execution_count": 1,
   "metadata": {
    "collapsed": true
   },
   "outputs": [
    {
     "name": "stderr",
     "output_type": "stream",
     "text": [
      "2024-07-03 20:34:22.109331: I tensorflow/core/util/port.cc:113] oneDNN custom operations are on. You may see slightly different numerical results due to floating-point round-off errors from different computation orders. To turn them off, set the environment variable `TF_ENABLE_ONEDNN_OPTS=0`.\n",
      "2024-07-03 20:34:22.326654: E external/local_xla/xla/stream_executor/cuda/cuda_dnn.cc:9261] Unable to register cuDNN factory: Attempting to register factory for plugin cuDNN when one has already been registered\n",
      "2024-07-03 20:34:22.326690: E external/local_xla/xla/stream_executor/cuda/cuda_fft.cc:607] Unable to register cuFFT factory: Attempting to register factory for plugin cuFFT when one has already been registered\n",
      "2024-07-03 20:34:22.359506: E external/local_xla/xla/stream_executor/cuda/cuda_blas.cc:1515] Unable to register cuBLAS factory: Attempting to register factory for plugin cuBLAS when one has already been registered\n",
      "2024-07-03 20:34:22.435517: I tensorflow/core/platform/cpu_feature_guard.cc:182] This TensorFlow binary is optimized to use available CPU instructions in performance-critical operations.\n",
      "To enable the following instructions: AVX2 AVX_VNNI FMA, in other operations, rebuild TensorFlow with the appropriate compiler flags.\n",
      "2024-07-03 20:34:23.420351: W tensorflow/compiler/tf2tensorrt/utils/py_utils.cc:38] TF-TRT Warning: Could not find TensorRT\n"
     ]
    }
   ],
   "source": [
    "import tensorflow as tf\n",
    "import numpy as np\n",
    "import os\n",
    "\n",
    "from tensorflow.python.keras.callbacks import EarlyStopping, ModelCheckpoint\n",
    "import matplotlib.pyplot as plt\n",
    "\n",
    "from preprocessor import *"
   ]
  },
  {
   "cell_type": "markdown",
   "source": [
    "# Graph visualization"
   ],
   "metadata": {
    "collapsed": false
   }
  },
  {
   "cell_type": "code",
   "execution_count": 2,
   "outputs": [],
   "source": [
    "def plot_graphs(history, string):\n",
    "    plt.plot(history.history[string])\n",
    "    plt.plot(history.history['val_'+string], '')\n",
    "    plt.xlabel(\"Epochs\")\n",
    "    plt.ylabel(string)\n",
    "    plt.legend([string, 'val_'+string])\n",
    "    plt.show()"
   ],
   "metadata": {
    "collapsed": false
   }
  },
  {
   "cell_type": "markdown",
   "source": [
    "# Load Data set"
   ],
   "metadata": {
    "collapsed": false
   }
  },
  {
   "cell_type": "code",
   "execution_count": 3,
   "outputs": [],
   "source": [
    "DATA_IN_PATH = './data_set/'\n",
    "DATA_OUT_PATH = './data_out/'\n",
    "TRAIN_INPUTS = 'train_inputs.npy'\n",
    "TRAIN_OUTPUTS = 'train_outputs.npy'\n",
    "TRAIN_TARGETS = 'train_targets.npy'\n",
    "DATA_CONFIGS = 'data_configs.json'"
   ],
   "metadata": {
    "collapsed": false
   }
  },
  {
   "cell_type": "code",
   "execution_count": 4,
   "outputs": [],
   "source": [
    "index_inputs = np.load(open(DATA_IN_PATH + TRAIN_INPUTS, 'rb'))\n",
    "index_outputs = np.load(open(DATA_IN_PATH + TRAIN_OUTPUTS , 'rb'))\n",
    "index_targets = np.load(open(DATA_IN_PATH + TRAIN_TARGETS , 'rb'))\n",
    "prepro_configs = json.load(open(DATA_IN_PATH + DATA_CONFIGS, 'r'))"
   ],
   "metadata": {
    "collapsed": false
   }
  },
  {
   "cell_type": "code",
   "execution_count": 5,
   "outputs": [
    {
     "name": "stdout",
     "output_type": "stream",
     "text": [
      "11823 11823 11823\n"
     ]
    }
   ],
   "source": [
    "# Show length\n",
    "print(len(index_inputs),  len(index_outputs), len(index_targets))"
   ],
   "metadata": {
    "collapsed": false
   }
  },
  {
   "cell_type": "markdown",
   "source": [
    "# Fix Random Seed"
   ],
   "metadata": {
    "collapsed": false
   }
  },
  {
   "cell_type": "code",
   "execution_count": 6,
   "outputs": [],
   "source": [
    "SEED_NUM = 1234\n",
    "tf.random.set_seed(SEED_NUM)"
   ],
   "metadata": {
    "collapsed": false
   }
  },
  {
   "cell_type": "markdown",
   "source": [
    "# Model Setting"
   ],
   "metadata": {
    "collapsed": false
   }
  },
  {
   "cell_type": "code",
   "execution_count": 7,
   "outputs": [],
   "source": [
    "MODEL_NAME = 'seq2seq_kor'\n",
    "BATCH_SIZE = 2\n",
    "MAX_SEQUENCE = 25\n",
    "EPOCH = 30\n",
    "UNITS = 1024\n",
    "EMBEDDING_DIM = 256\n",
    "VALIDATION_SPLIT = 0.1\n",
    "\n",
    "char2idx = prepro_configs['char2idx']\n",
    "idx2char = prepro_configs['idx2char']\n",
    "std_index = prepro_configs['std_symbol']\n",
    "end_index = prepro_configs['end_symbol']\n",
    "vocab_size = prepro_configs['vocab_size']"
   ],
   "metadata": {
    "collapsed": false
   }
  },
  {
   "cell_type": "markdown",
   "source": [
    "# SEQ2SEQ - BASE GRU model (Gate Recurrent Unit)"
   ],
   "metadata": {
    "collapsed": false
   }
  },
  {
   "cell_type": "markdown",
   "source": [
    "## Encoder"
   ],
   "metadata": {
    "collapsed": false
   }
  },
  {
   "cell_type": "code",
   "execution_count": 8,
   "outputs": [],
   "source": [
    "class Encoder(tf.keras.layers.Layer):\n",
    "    def __init__(self, vocab_size, embedding_dim, enc_units, batch_sz):\n",
    "        super(Encoder, self).__init__()\n",
    "        self.batch_sz = batch_sz\n",
    "        self.enc_units = enc_units\n",
    "        self.vocab_size = vocab_size\n",
    "        self.embedding_dim = embedding_dim\n",
    "\n",
    "        self.embedding = tf.keras.layers.Embedding(self.vocab_size, self.embedding_dim)\n",
    "\n",
    "        self.gru = tf.keras.layers.GRU(self.enc_units,\n",
    "                                       return_sequences=True,\n",
    "                                       return_state=True,\n",
    "                                       recurrent_initializer='glorot_uniform')\n",
    "\n",
    "    def call(self, x, hidden):\n",
    "        x = self.embedding(x)\n",
    "        output, state = self.gru(x, initial_state = hidden)\n",
    "        return output, state\n",
    "\n",
    "    def initialize_hidden_state(self, inp):\n",
    "        return tf.zeros((tf.shape(inp)[0], self.enc_units))"
   ],
   "metadata": {
    "collapsed": false
   }
  },
  {
   "cell_type": "markdown",
   "source": [
    "## Attention"
   ],
   "metadata": {
    "collapsed": false
   }
  },
  {
   "cell_type": "code",
   "execution_count": 9,
   "outputs": [],
   "source": [
    "class BahdanauAttention(tf.keras.layers.Layer):\n",
    "    def __init__(self, units):\n",
    "        super(BahdanauAttention, self).__init__()\n",
    "        self.W1 = tf.keras.layers.Dense(units)\n",
    "        self.W2 = tf.keras.layers.Dense(units)\n",
    "        self.V = tf.keras.layers.Dense(1)\n",
    "\n",
    "    def call(self, query, values):\n",
    "        hidden_with_time_axis = tf.expand_dims(query, 1)\n",
    "\n",
    "        score = self.V(tf.nn.tanh(\n",
    "            self.W1(values) + self.W2(hidden_with_time_axis)))\n",
    "\n",
    "        attention_weights = tf.nn.softmax(score, axis=1)\n",
    "\n",
    "        context_vector = attention_weights * values\n",
    "        context_vector = tf.reduce_sum(context_vector, axis=1)\n",
    "\n",
    "        return context_vector, attention_weights"
   ],
   "metadata": {
    "collapsed": false
   }
  },
  {
   "cell_type": "markdown",
   "source": [
    "## Decoder"
   ],
   "metadata": {
    "collapsed": false
   }
  },
  {
   "cell_type": "code",
   "execution_count": 10,
   "outputs": [],
   "source": [
    "class Decoder(tf.keras.layers.Layer):\n",
    "    def __init__(self, vocab_size, embedding_dim, dec_units, batch_sz):\n",
    "        super(Decoder, self).__init__()\n",
    "\n",
    "        self.batch_sz = batch_sz\n",
    "        self.dec_units = dec_units\n",
    "        self.vocab_size = vocab_size\n",
    "        self.embedding_dim = embedding_dim\n",
    "\n",
    "        self.embedding = tf.keras.layers.Embedding(self.vocab_size, self.embedding_dim)\n",
    "\n",
    "        self.gru = tf.keras.layers.GRU(self.dec_units,\n",
    "                                       return_sequences=True,\n",
    "                                       return_state=True,\n",
    "                                       recurrent_initializer='glorot_uniform')\n",
    "\n",
    "        self.fc = tf.keras.layers.Dense(self.vocab_size)\n",
    "\n",
    "        self.attention = BahdanauAttention(self.dec_units)\n",
    "\n",
    "\n",
    "    def call(self, x, hidden, enc_output):\n",
    "        context_vector, attention_weights = self.attention(hidden, enc_output)\n",
    "\n",
    "        x = self.embedding(x)\n",
    "\n",
    "        x = tf.concat([tf.expand_dims(context_vector, 1), x], axis=-1)\n",
    "\n",
    "        output, state = self.gru(x)\n",
    "\n",
    "        output = tf.reshape(output, (-1, output.shape[2]))\n",
    "\n",
    "        x = self.fc(output)\n",
    "\n",
    "        return x, state, attention_weights"
   ],
   "metadata": {
    "collapsed": false
   }
  },
  {
   "cell_type": "markdown",
   "source": [
    "## Optimizer"
   ],
   "metadata": {
    "collapsed": false
   }
  },
  {
   "cell_type": "code",
   "execution_count": 11,
   "outputs": [
    {
     "name": "stderr",
     "output_type": "stream",
     "text": [
      "2024-07-03 20:34:26.211930: I external/local_xla/xla/stream_executor/cuda/cuda_executor.cc:887] could not open file to read NUMA node: /sys/bus/pci/devices/0000:01:00.0/numa_node\n",
      "Your kernel may have been built without NUMA support.\n",
      "2024-07-03 20:34:26.317945: I external/local_xla/xla/stream_executor/cuda/cuda_executor.cc:887] could not open file to read NUMA node: /sys/bus/pci/devices/0000:01:00.0/numa_node\n",
      "Your kernel may have been built without NUMA support.\n",
      "2024-07-03 20:34:26.317977: I external/local_xla/xla/stream_executor/cuda/cuda_executor.cc:887] could not open file to read NUMA node: /sys/bus/pci/devices/0000:01:00.0/numa_node\n",
      "Your kernel may have been built without NUMA support.\n",
      "2024-07-03 20:34:26.330627: I external/local_xla/xla/stream_executor/cuda/cuda_executor.cc:887] could not open file to read NUMA node: /sys/bus/pci/devices/0000:01:00.0/numa_node\n",
      "Your kernel may have been built without NUMA support.\n",
      "2024-07-03 20:34:26.330677: I external/local_xla/xla/stream_executor/cuda/cuda_executor.cc:887] could not open file to read NUMA node: /sys/bus/pci/devices/0000:01:00.0/numa_node\n",
      "Your kernel may have been built without NUMA support.\n",
      "2024-07-03 20:34:26.330690: I external/local_xla/xla/stream_executor/cuda/cuda_executor.cc:887] could not open file to read NUMA node: /sys/bus/pci/devices/0000:01:00.0/numa_node\n",
      "Your kernel may have been built without NUMA support.\n",
      "2024-07-03 20:34:26.697195: I external/local_xla/xla/stream_executor/cuda/cuda_executor.cc:887] could not open file to read NUMA node: /sys/bus/pci/devices/0000:01:00.0/numa_node\n",
      "Your kernel may have been built without NUMA support.\n",
      "2024-07-03 20:34:26.697247: I external/local_xla/xla/stream_executor/cuda/cuda_executor.cc:887] could not open file to read NUMA node: /sys/bus/pci/devices/0000:01:00.0/numa_node\n",
      "Your kernel may have been built without NUMA support.\n",
      "2024-07-03 20:34:26.697252: I tensorflow/core/common_runtime/gpu/gpu_device.cc:2022] Could not identify NUMA node of platform GPU id 0, defaulting to 0.  Your kernel may not have been built with NUMA support.\n",
      "2024-07-03 20:34:26.697273: I external/local_xla/xla/stream_executor/cuda/cuda_executor.cc:887] could not open file to read NUMA node: /sys/bus/pci/devices/0000:01:00.0/numa_node\n",
      "Your kernel may have been built without NUMA support.\n",
      "2024-07-03 20:34:26.697287: I tensorflow/core/common_runtime/gpu/gpu_device.cc:1929] Created device /job:localhost/replica:0/task:0/device:GPU:0 with 9585 MB memory:  -> device: 0, name: NVIDIA GeForce RTX 3080, pci bus id: 0000:01:00.0, compute capability: 8.6\n"
     ]
    }
   ],
   "source": [
    "optimizer = tf.keras.optimizers.Adam()\n",
    "\n",
    "loss_object = tf.keras.losses.SparseCategoricalCrossentropy(from_logits=True, reduction='none')\n",
    "\n",
    "train_accuracy = tf.keras.metrics.SparseCategoricalAccuracy(name='accuracy')\n",
    "\n",
    "def loss(real, pred):\n",
    "    mask = tf.math.logical_not(tf.math.equal(real, 0))\n",
    "    loss_ = loss_object(real, pred)\n",
    "    mask = tf.cast(mask, dtype=loss_.dtype)\n",
    "    loss_ *= mask\n",
    "    return tf.reduce_mean(loss_)\n",
    "\n",
    "def accuracy(real, pred):\n",
    "    mask = tf.math.logical_not(tf.math.equal(real, 0))\n",
    "    mask = tf.expand_dims(tf.cast(mask, dtype=pred.dtype), axis=-1)\n",
    "    pred *= mask\n",
    "    acc = train_accuracy(real, pred)\n",
    "\n",
    "    return tf.reduce_mean(acc)"
   ],
   "metadata": {
    "collapsed": false
   }
  },
  {
   "cell_type": "markdown",
   "source": [
    "## Model"
   ],
   "metadata": {
    "collapsed": false
   }
  },
  {
   "cell_type": "code",
   "execution_count": 12,
   "outputs": [],
   "source": [
    "class seq2seq(tf.keras.Model):\n",
    "    def __init__(self, vocab_size, embedding_dim, enc_units, dec_units, batch_sz, end_token_idx=2):\n",
    "        super(seq2seq, self).__init__()\n",
    "        self.end_token_idx = end_token_idx\n",
    "        self.encoder = Encoder(vocab_size, embedding_dim, enc_units, batch_sz)\n",
    "        self.decoder = Decoder(vocab_size, embedding_dim, dec_units, batch_sz)\n",
    "\n",
    "    def call(self, x):\n",
    "        inp, tar = x\n",
    "\n",
    "        enc_hidden = self.encoder.initialize_hidden_state(inp)\n",
    "        enc_output, enc_hidden = self.encoder(inp, enc_hidden)\n",
    "\n",
    "        dec_hidden = enc_hidden\n",
    "\n",
    "        predict_tokens = list()\n",
    "        for t in range(0, tar.shape[1]):\n",
    "            dec_input = tf.dtypes.cast(tf.expand_dims(tar[:, t], 1), tf.float32)\n",
    "            predictions, dec_hidden, _ = self.decoder(dec_input, dec_hidden, enc_output)\n",
    "            predict_tokens.append(tf.dtypes.cast(predictions, tf.float32))\n",
    "        return tf.stack(predict_tokens, axis=1)\n",
    "\n",
    "    def inference(self, x):\n",
    "        inp  = x\n",
    "\n",
    "        enc_hidden = self.encoder.initialize_hidden_state(inp)\n",
    "        enc_output, enc_hidden = self.encoder(inp, enc_hidden)\n",
    "\n",
    "        dec_hidden = enc_hidden\n",
    "\n",
    "        dec_input = tf.expand_dims([char2idx[std_index]], 1)\n",
    "\n",
    "        predict_tokens = list()\n",
    "        for t in range(0, MAX_SEQUENCE):\n",
    "            predictions, dec_hidden, _ = self.decoder(dec_input, dec_hidden, enc_output)\n",
    "            predict_token = tf.argmax(predictions[0])\n",
    "\n",
    "            if predict_token == self.end_token_idx:\n",
    "                break\n",
    "\n",
    "            predict_tokens.append(predict_token)\n",
    "            dec_input = tf.dtypes.cast(tf.expand_dims([predict_token], 0), tf.float32)\n",
    "\n",
    "        return tf.stack(predict_tokens, axis=0).numpy()"
   ],
   "metadata": {
    "collapsed": false
   }
  },
  {
   "cell_type": "code",
   "execution_count": 13,
   "outputs": [],
   "source": [
    "model = seq2seq(vocab_size, EMBEDDING_DIM, UNITS, UNITS, BATCH_SIZE, char2idx[end_index])\n",
    "model.compile(loss=loss, optimizer=tf.keras.optimizers.Adam(1e-3), metrics=[accuracy])"
   ],
   "metadata": {
    "collapsed": false
   }
  },
  {
   "cell_type": "code",
   "execution_count": 14,
   "outputs": [
    {
     "name": "stdout",
     "output_type": "stream",
     "text": [
      "Epoch 1/30\n"
     ]
    },
    {
     "name": "stderr",
     "output_type": "stream",
     "text": [
      "2024-07-03 20:34:41.884823: I external/local_xla/xla/stream_executor/cuda/cuda_dnn.cc:454] Loaded cuDNN version 8904\n",
      "2024-07-03 20:34:42.502375: I external/local_xla/xla/service/service.cc:168] XLA service 0x7f0ec9539790 initialized for platform CUDA (this does not guarantee that XLA will be used). Devices:\n",
      "2024-07-03 20:34:42.502408: I external/local_xla/xla/service/service.cc:176]   StreamExecutor device (0): NVIDIA GeForce RTX 3080, Compute Capability 8.6\n",
      "2024-07-03 20:34:42.520352: I tensorflow/compiler/mlir/tensorflow/utils/dump_mlir_util.cc:269] disabling MLIR crash reproducer, set env var `MLIR_CRASH_REPRODUCER_DIRECTORY` to enable.\n",
      "2024-07-03 20:34:42.654260: I external/local_tsl/tsl/platform/default/subprocess.cc:304] Start cannot spawn child process: No such file or directory\n",
      "WARNING: All log messages before absl::InitializeLog() is called are written to STDERR\n",
      "I0000 00:00:1720006482.726843     585 device_compiler.h:186] Compiled cluster using XLA!  This line is logged at most once for the lifetime of the process.\n"
     ]
    },
    {
     "name": "stdout",
     "output_type": "stream",
     "text": [
      "5320/5320 [==============================] - ETA: 0s - loss: 1.2880 - accuracy: 0.8565\n",
      "Epoch 00001: val_accuracy improved from -inf to 0.85362, saving model to ./data_out/seq2seq_kor/checkpoints.weights.h5\n",
      "5320/5320 [==============================] - 433s 78ms/step - loss: 1.2880 - accuracy: 0.8565 - val_loss: 1.5189 - val_accuracy: 0.8536\n",
      "Epoch 2/30\n",
      "5320/5320 [==============================] - ETA: 0s - loss: 1.2455 - accuracy: 0.8538\n",
      "Epoch 00002: val_accuracy improved from 0.85362 to 0.85392, saving model to ./data_out/seq2seq_kor/checkpoints.weights.h5\n",
      "5320/5320 [==============================] - 410s 77ms/step - loss: 1.2455 - accuracy: 0.8538 - val_loss: 1.5561 - val_accuracy: 0.8539\n",
      "Epoch 3/30\n",
      "5320/5320 [==============================] - ETA: 0s - loss: 1.1217 - accuracy: 0.8545\n",
      "Epoch 00003: val_accuracy improved from 0.85392 to 0.85499, saving model to ./data_out/seq2seq_kor/checkpoints.weights.h5\n",
      "5320/5320 [==============================] - 407s 76ms/step - loss: 1.1217 - accuracy: 0.8545 - val_loss: 1.5751 - val_accuracy: 0.8550\n",
      "Epoch 4/30\n",
      "5320/5320 [==============================] - ETA: 0s - loss: 1.0604 - accuracy: 0.8555\n",
      "Epoch 00004: val_accuracy improved from 0.85499 to 0.85610, saving model to ./data_out/seq2seq_kor/checkpoints.weights.h5\n",
      "5320/5320 [==============================] - 406s 76ms/step - loss: 1.0604 - accuracy: 0.8555 - val_loss: 1.6185 - val_accuracy: 0.8561\n",
      "Epoch 5/30\n",
      "5320/5320 [==============================] - ETA: 0s - loss: 1.0189 - accuracy: 0.8566\n",
      "Epoch 00005: val_accuracy improved from 0.85610 to 0.85709, saving model to ./data_out/seq2seq_kor/checkpoints.weights.h5\n",
      "5320/5320 [==============================] - 403s 76ms/step - loss: 1.0189 - accuracy: 0.8566 - val_loss: 1.6344 - val_accuracy: 0.8571\n",
      "Epoch 6/30\n",
      "5320/5320 [==============================] - ETA: 0s - loss: 0.9844 - accuracy: 0.8575\n",
      "Epoch 00006: val_accuracy improved from 0.85709 to 0.85800, saving model to ./data_out/seq2seq_kor/checkpoints.weights.h5\n",
      "5320/5320 [==============================] - 404s 76ms/step - loss: 0.9844 - accuracy: 0.8575 - val_loss: 1.7604 - val_accuracy: 0.8580\n",
      "Epoch 7/30\n",
      "5320/5320 [==============================] - ETA: 0s - loss: 0.8938 - accuracy: 0.8585\n",
      "Epoch 00007: val_accuracy improved from 0.85800 to 0.85915, saving model to ./data_out/seq2seq_kor/checkpoints.weights.h5\n",
      "5320/5320 [==============================] - 407s 76ms/step - loss: 0.8938 - accuracy: 0.8585 - val_loss: 1.7188 - val_accuracy: 0.8592\n",
      "Epoch 8/30\n",
      "5320/5320 [==============================] - ETA: 0s - loss: 0.7874 - accuracy: 0.8600\n",
      "Epoch 00008: val_accuracy improved from 0.85915 to 0.86070, saving model to ./data_out/seq2seq_kor/checkpoints.weights.h5\n",
      "5320/5320 [==============================] - 405s 76ms/step - loss: 0.7874 - accuracy: 0.8600 - val_loss: 1.8492 - val_accuracy: 0.8607\n",
      "Epoch 9/30\n",
      "5320/5320 [==============================] - ETA: 0s - loss: 0.6435 - accuracy: 0.8620\n",
      "Epoch 00009: val_accuracy improved from 0.86070 to 0.86313, saving model to ./data_out/seq2seq_kor/checkpoints.weights.h5\n",
      "5320/5320 [==============================] - 412s 77ms/step - loss: 0.6435 - accuracy: 0.8620 - val_loss: 1.9456 - val_accuracy: 0.8631\n",
      "Epoch 10/30\n",
      "5320/5320 [==============================] - ETA: 0s - loss: 0.4871 - accuracy: 0.8651\n",
      "Epoch 00010: val_accuracy improved from 0.86313 to 0.86676, saving model to ./data_out/seq2seq_kor/checkpoints.weights.h5\n",
      "5320/5320 [==============================] - 417s 78ms/step - loss: 0.4871 - accuracy: 0.8651 - val_loss: 2.0792 - val_accuracy: 0.8668\n",
      "Epoch 11/30\n",
      "5320/5320 [==============================] - ETA: 0s - loss: 0.3411 - accuracy: 0.8693\n",
      "Epoch 00011: val_accuracy improved from 0.86676 to 0.87165, saving model to ./data_out/seq2seq_kor/checkpoints.weights.h5\n",
      "5320/5320 [==============================] - 416s 78ms/step - loss: 0.3411 - accuracy: 0.8693 - val_loss: 2.1945 - val_accuracy: 0.8717\n",
      "Epoch 12/30\n",
      "5320/5320 [==============================] - ETA: 0s - loss: 0.2309 - accuracy: 0.8746\n",
      "Epoch 00012: val_accuracy improved from 0.87165 to 0.87726, saving model to ./data_out/seq2seq_kor/checkpoints.weights.h5\n",
      "5320/5320 [==============================] - 416s 78ms/step - loss: 0.2309 - accuracy: 0.8746 - val_loss: 2.3173 - val_accuracy: 0.8773\n",
      "Epoch 13/30\n",
      "5320/5320 [==============================] - ETA: 0s - loss: 0.1535 - accuracy: 0.8803\n",
      "Epoch 00013: val_accuracy improved from 0.87726 to 0.88305, saving model to ./data_out/seq2seq_kor/checkpoints.weights.h5\n",
      "5320/5320 [==============================] - 403s 76ms/step - loss: 0.1535 - accuracy: 0.8803 - val_loss: 2.4087 - val_accuracy: 0.8831\n",
      "Epoch 14/30\n",
      "5320/5320 [==============================] - ETA: 0s - loss: 0.1020 - accuracy: 0.8860\n",
      "Epoch 00014: val_accuracy improved from 0.88305 to 0.88872, saving model to ./data_out/seq2seq_kor/checkpoints.weights.h5\n",
      "5320/5320 [==============================] - 383s 72ms/step - loss: 0.1020 - accuracy: 0.8860 - val_loss: 2.5276 - val_accuracy: 0.8887\n",
      "Epoch 15/30\n",
      "5320/5320 [==============================] - ETA: 0s - loss: 0.0693 - accuracy: 0.8915\n",
      "Epoch 00015: val_accuracy improved from 0.88872 to 0.89406, saving model to ./data_out/seq2seq_kor/checkpoints.weights.h5\n",
      "5320/5320 [==============================] - 382s 72ms/step - loss: 0.0693 - accuracy: 0.8915 - val_loss: 2.5699 - val_accuracy: 0.8941\n",
      "Epoch 16/30\n",
      "5320/5320 [==============================] - ETA: 0s - loss: 0.0492 - accuracy: 0.8966\n",
      "Epoch 00016: val_accuracy improved from 0.89406 to 0.89900, saving model to ./data_out/seq2seq_kor/checkpoints.weights.h5\n",
      "5320/5320 [==============================] - 384s 72ms/step - loss: 0.0492 - accuracy: 0.8966 - val_loss: 2.6420 - val_accuracy: 0.8990\n",
      "Epoch 17/30\n",
      "5320/5320 [==============================] - ETA: 0s - loss: 0.0360 - accuracy: 0.9013\n",
      "Epoch 00017: val_accuracy improved from 0.89900 to 0.90351, saving model to ./data_out/seq2seq_kor/checkpoints.weights.h5\n",
      "5320/5320 [==============================] - 389s 73ms/step - loss: 0.0360 - accuracy: 0.9013 - val_loss: 2.6672 - val_accuracy: 0.9035\n",
      "Epoch 18/30\n",
      "5320/5320 [==============================] - ETA: 0s - loss: 0.0273 - accuracy: 0.9056\n",
      "Epoch 00018: val_accuracy improved from 0.90351 to 0.90761, saving model to ./data_out/seq2seq_kor/checkpoints.weights.h5\n",
      "5320/5320 [==============================] - 410s 77ms/step - loss: 0.0273 - accuracy: 0.9056 - val_loss: 2.7385 - val_accuracy: 0.9076\n",
      "Epoch 19/30\n",
      "5320/5320 [==============================] - ETA: 0s - loss: 0.0232 - accuracy: 0.9095\n",
      "Epoch 00019: val_accuracy improved from 0.90761 to 0.91133, saving model to ./data_out/seq2seq_kor/checkpoints.weights.h5\n",
      "5320/5320 [==============================] - 401s 75ms/step - loss: 0.0232 - accuracy: 0.9095 - val_loss: 2.7650 - val_accuracy: 0.9113\n",
      "Epoch 20/30\n",
      "5320/5320 [==============================] - ETA: 0s - loss: 0.0188 - accuracy: 0.9131\n",
      "Epoch 00020: val_accuracy improved from 0.91133 to 0.91473, saving model to ./data_out/seq2seq_kor/checkpoints.weights.h5\n",
      "5320/5320 [==============================] - 415s 78ms/step - loss: 0.0188 - accuracy: 0.9131 - val_loss: 2.8110 - val_accuracy: 0.9147\n",
      "Epoch 21/30\n",
      "5320/5320 [==============================] - ETA: 0s - loss: 0.0163 - accuracy: 0.9163\n",
      "Epoch 00021: val_accuracy improved from 0.91473 to 0.91782, saving model to ./data_out/seq2seq_kor/checkpoints.weights.h5\n",
      "5320/5320 [==============================] - 418s 79ms/step - loss: 0.0163 - accuracy: 0.9163 - val_loss: 2.9021 - val_accuracy: 0.9178\n",
      "Epoch 22/30\n",
      "5320/5320 [==============================] - ETA: 0s - loss: 0.0149 - accuracy: 0.9193\n",
      "Epoch 00022: val_accuracy improved from 0.91782 to 0.92064, saving model to ./data_out/seq2seq_kor/checkpoints.weights.h5\n",
      "5320/5320 [==============================] - 404s 76ms/step - loss: 0.0149 - accuracy: 0.9193 - val_loss: 2.9102 - val_accuracy: 0.9206\n",
      "Epoch 23/30\n",
      "5320/5320 [==============================] - ETA: 0s - loss: 0.0136 - accuracy: 0.9220\n",
      "Epoch 00023: val_accuracy improved from 0.92064 to 0.92324, saving model to ./data_out/seq2seq_kor/checkpoints.weights.h5\n",
      "5320/5320 [==============================] - 395s 74ms/step - loss: 0.0136 - accuracy: 0.9220 - val_loss: 2.9500 - val_accuracy: 0.9232\n",
      "Epoch 24/30\n",
      "5320/5320 [==============================] - ETA: 0s - loss: 0.0122 - accuracy: 0.9245\n",
      "Epoch 00024: val_accuracy improved from 0.92324 to 0.92563, saving model to ./data_out/seq2seq_kor/checkpoints.weights.h5\n",
      "5320/5320 [==============================] - 394s 74ms/step - loss: 0.0122 - accuracy: 0.9245 - val_loss: 2.9410 - val_accuracy: 0.9256\n",
      "Epoch 25/30\n",
      "5320/5320 [==============================] - ETA: 0s - loss: 0.0120 - accuracy: 0.9268\n",
      "Epoch 00025: val_accuracy improved from 0.92563 to 0.92783, saving model to ./data_out/seq2seq_kor/checkpoints.weights.h5\n",
      "5320/5320 [==============================] - 406s 76ms/step - loss: 0.0120 - accuracy: 0.9268 - val_loss: 2.9958 - val_accuracy: 0.9278\n",
      "Epoch 26/30\n",
      "5320/5320 [==============================] - ETA: 0s - loss: 0.0114 - accuracy: 0.9289\n",
      "Epoch 00026: val_accuracy improved from 0.92783 to 0.92987, saving model to ./data_out/seq2seq_kor/checkpoints.weights.h5\n",
      "5320/5320 [==============================] - 414s 78ms/step - loss: 0.0114 - accuracy: 0.9289 - val_loss: 3.0169 - val_accuracy: 0.9299\n",
      "Epoch 27/30\n",
      "5320/5320 [==============================] - ETA: 0s - loss: 0.0111 - accuracy: 0.9308\n",
      "Epoch 00027: val_accuracy improved from 0.92987 to 0.93176, saving model to ./data_out/seq2seq_kor/checkpoints.weights.h5\n",
      "5320/5320 [==============================] - 410s 77ms/step - loss: 0.0111 - accuracy: 0.9308 - val_loss: 3.1022 - val_accuracy: 0.9318\n",
      "Epoch 28/30\n",
      "5320/5320 [==============================] - ETA: 0s - loss: 0.0104 - accuracy: 0.9327\n",
      "Epoch 00028: val_accuracy improved from 0.93176 to 0.93351, saving model to ./data_out/seq2seq_kor/checkpoints.weights.h5\n",
      "5320/5320 [==============================] - 406s 76ms/step - loss: 0.0104 - accuracy: 0.9327 - val_loss: 3.0994 - val_accuracy: 0.9335\n",
      "Epoch 29/30\n",
      "5320/5320 [==============================] - ETA: 0s - loss: 0.0098 - accuracy: 0.9343\n",
      "Epoch 00029: val_accuracy improved from 0.93351 to 0.93514, saving model to ./data_out/seq2seq_kor/checkpoints.weights.h5\n",
      "5320/5320 [==============================] - 409s 77ms/step - loss: 0.0098 - accuracy: 0.9343 - val_loss: 3.1341 - val_accuracy: 0.9351\n",
      "Epoch 30/30\n",
      "5320/5320 [==============================] - ETA: 0s - loss: 0.0091 - accuracy: 0.9359\n",
      "Epoch 00030: val_accuracy improved from 0.93514 to 0.93667, saving model to ./data_out/seq2seq_kor/checkpoints.weights.h5\n",
      "5320/5320 [==============================] - 406s 76ms/step - loss: 0.0091 - accuracy: 0.9359 - val_loss: 3.1801 - val_accuracy: 0.9367\n"
     ]
    }
   ],
   "source": [
    "PATH = DATA_OUT_PATH + MODEL_NAME\n",
    "if not(os.path.isdir(PATH)):\n",
    "        os.makedirs(os.path.join(PATH))\n",
    "\n",
    "checkpoint_path = DATA_OUT_PATH + MODEL_NAME + '/checkpoints.weights.h5'\n",
    "\n",
    "cp_callback = ModelCheckpoint(\n",
    "    checkpoint_path, monitor='val_accuracy', verbose=1, save_best_only=True, save_weights_only=True)\n",
    "\n",
    "earlystop_callback = EarlyStopping(monitor='val_accuracy', min_delta=0.0001, patience=10)\n",
    "\n",
    "history = model.fit([index_inputs, index_outputs], index_targets,\n",
    "                    batch_size=BATCH_SIZE, epochs=EPOCH,\n",
    "                    validation_split=VALIDATION_SPLIT, callbacks=[earlystop_callback, cp_callback])"
   ],
   "metadata": {
    "collapsed": false
   }
  },
  {
   "cell_type": "markdown",
   "source": [
    "# Result"
   ],
   "metadata": {
    "collapsed": false
   }
  },
  {
   "cell_type": "code",
   "execution_count": 15,
   "outputs": [
    {
     "data": {
      "text/plain": "<Figure size 640x480 with 1 Axes>",
      "image/png": "[encoded data removed]"
     },
     "metadata": {},
     "output_type": "display_data"
    }
   ],
   "source": [
    "plot_graphs(history, 'accuracy')"
   ],
   "metadata": {
    "collapsed": false
   }
  },
  {
   "cell_type": "code",
   "execution_count": 16,
   "outputs": [
    {
     "data": {
      "text/plain": "<Figure size 640x480 with 1 Axes>",
      "image/png": "[encoded data removed]"
     },
     "metadata": {},
     "output_type": "display_data"
    }
   ],
   "source": [
    "plot_graphs(history, 'loss')"
   ],
   "metadata": {
    "collapsed": false
   }
  },
  {
   "cell_type": "code",
   "execution_count": 17,
   "outputs": [],
   "source": [
    "SAVE_FILE_NM = \"checkpoints.weights.h5\"\n",
    "model.load_weights(os.path.join(DATA_OUT_PATH, MODEL_NAME, SAVE_FILE_NM))"
   ],
   "metadata": {
    "collapsed": false
   }
  },
  {
   "cell_type": "code",
   "execution_count": 18,
   "outputs": [
    {
     "name": "stdout",
     "output_type": "stream",
     "text": [
      "[ 4682  6397 15689 10494  9640  2706]\n",
      "평소에 필요했던 게 좋을 것 같아요\n"
     ]
    }
   ],
   "source": [
    "query = \"남자친구 승진 선물로 뭐가 좋을까?\"\n",
    "\n",
    "test_index_inputs, _ = enc_processing([query], char2idx)\n",
    "predict_tokens = model.inference(test_index_inputs)\n",
    "print(predict_tokens)\n",
    "\n",
    "print(' '.join([idx2char[str(t)] for t in predict_tokens]))"
   ],
   "metadata": {
    "collapsed": false
   }
  }
 ],
 "metadata": {
  "kernelspec": {
   "display_name": "Python 3",
   "language": "python",
   "name": "python3"
  },
  "language_info": {
   "codemirror_mode": {
    "name": "ipython",
    "version": 2
   },
   "file_extension": ".py",
   "mimetype": "text/x-python",
   "name": "python",
   "nbconvert_exporter": "python",
   "pygments_lexer": "ipython2",
   "version": "2.7.6"
  }
 },
 "nbformat": 4,
 "nbformat_minor": 0
}
